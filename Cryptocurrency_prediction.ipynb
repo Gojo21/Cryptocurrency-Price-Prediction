{
  "nbformat": 4,
  "nbformat_minor": 0,
  "metadata": {
    "colab": {
      "name": "Cryptocurrency_prediction.ipynb",
      "provenance": [],
      "collapsed_sections": [],
      "authorship_tag": "ABX9TyOSNEDlwEnkZ+U642Ah5GLr",
      "include_colab_link": true
    },
    "kernelspec": {
      "name": "python3",
      "display_name": "Python 3"
    },
    "language_info": {
      "name": "python"
    }
  },
  "cells": [
    {
      "cell_type": "markdown",
      "metadata": {
        "id": "view-in-github",
        "colab_type": "text"
      },
      "source": [
        "<a href=\"https://colab.research.google.com/github/Gojo21/Cryptocurrency-Price-Prediction/blob/main/Cryptocurrency_prediction.ipynb\" target=\"_parent\"><img src=\"https://colab.research.google.com/assets/colab-badge.svg\" alt=\"Open In Colab\"/></a>"
      ]
    },
    {
      "cell_type": "code",
      "metadata": {
        "id": "5XG-GQ4chzuq"
      },
      "source": [
        "import pandas_datareader as pdr\n",
        "import datetime"
      ],
      "execution_count": null,
      "outputs": []
    },
    {
      "cell_type": "code",
      "metadata": {
        "id": "u5j2LeYTiAFF",
        "colab": {
          "base_uri": "https://localhost:8080/",
          "height": 396
        },
        "outputId": "097bb5e1-6acc-43e2-b54c-f59464356f90"
      },
      "source": [
        "\n",
        "doge_data = pdr.get_data_yahoo(['DOGE-INR'], \n",
        "                          start=datetime.datetime(2020, 1, 1), \n",
        "                          end=datetime.datetime(2021, 7, 20))['Close']"
      ],
      "execution_count": null,
      "outputs": [
        {
          "output_type": "stream",
          "text": [
            "/usr/local/lib/python3.7/dist-packages/pandas_datareader/base.py:272: SymbolWarning: Failed to read symbol: 'DOGE-INR', replacing with NaN.\n",
            "  warnings.warn(msg.format(sym), SymbolWarning)\n"
          ],
          "name": "stderr"
        },
        {
          "output_type": "error",
          "ename": "RemoteDataError",
          "evalue": "ignored",
          "traceback": [
            "\u001b[0;31m---------------------------------------------------------------------------\u001b[0m",
            "\u001b[0;31mRemoteDataError\u001b[0m                           Traceback (most recent call last)",
            "\u001b[0;32m<ipython-input-8-e49cacd911ce>\u001b[0m in \u001b[0;36m<module>\u001b[0;34m()\u001b[0m\n\u001b[1;32m      2\u001b[0m doge_data = pdr.get_data_yahoo(['DOGE-INR'], \n\u001b[1;32m      3\u001b[0m                           \u001b[0mstart\u001b[0m\u001b[0;34m=\u001b[0m\u001b[0mdatetime\u001b[0m\u001b[0;34m.\u001b[0m\u001b[0mdatetime\u001b[0m\u001b[0;34m(\u001b[0m\u001b[0;36m2020\u001b[0m\u001b[0;34m,\u001b[0m \u001b[0;36m1\u001b[0m\u001b[0;34m,\u001b[0m \u001b[0;36m1\u001b[0m\u001b[0;34m)\u001b[0m\u001b[0;34m,\u001b[0m\u001b[0;34m\u001b[0m\u001b[0;34m\u001b[0m\u001b[0m\n\u001b[0;32m----> 4\u001b[0;31m                           end=datetime.datetime(2021, 7, 20))['Close']\n\u001b[0m",
            "\u001b[0;32m/usr/local/lib/python3.7/dist-packages/pandas_datareader/data.py\u001b[0m in \u001b[0;36mget_data_yahoo\u001b[0;34m(*args, **kwargs)\u001b[0m\n\u001b[1;32m     84\u001b[0m \u001b[0;34m\u001b[0m\u001b[0m\n\u001b[1;32m     85\u001b[0m \u001b[0;32mdef\u001b[0m \u001b[0mget_data_yahoo\u001b[0m\u001b[0;34m(\u001b[0m\u001b[0;34m*\u001b[0m\u001b[0margs\u001b[0m\u001b[0;34m,\u001b[0m \u001b[0;34m**\u001b[0m\u001b[0mkwargs\u001b[0m\u001b[0;34m)\u001b[0m\u001b[0;34m:\u001b[0m\u001b[0;34m\u001b[0m\u001b[0;34m\u001b[0m\u001b[0m\n\u001b[0;32m---> 86\u001b[0;31m     \u001b[0;32mreturn\u001b[0m \u001b[0mYahooDailyReader\u001b[0m\u001b[0;34m(\u001b[0m\u001b[0;34m*\u001b[0m\u001b[0margs\u001b[0m\u001b[0;34m,\u001b[0m \u001b[0;34m**\u001b[0m\u001b[0mkwargs\u001b[0m\u001b[0;34m)\u001b[0m\u001b[0;34m.\u001b[0m\u001b[0mread\u001b[0m\u001b[0;34m(\u001b[0m\u001b[0;34m)\u001b[0m\u001b[0;34m\u001b[0m\u001b[0;34m\u001b[0m\u001b[0m\n\u001b[0m\u001b[1;32m     87\u001b[0m \u001b[0;34m\u001b[0m\u001b[0m\n\u001b[1;32m     88\u001b[0m \u001b[0;34m\u001b[0m\u001b[0m\n",
            "\u001b[0;32m/usr/local/lib/python3.7/dist-packages/pandas_datareader/base.py\u001b[0m in \u001b[0;36mread\u001b[0;34m(self)\u001b[0m\n\u001b[1;32m    256\u001b[0m             \u001b[0mdf\u001b[0m \u001b[0;34m=\u001b[0m \u001b[0mself\u001b[0m\u001b[0;34m.\u001b[0m\u001b[0m_dl_mult_symbols\u001b[0m\u001b[0;34m(\u001b[0m\u001b[0mself\u001b[0m\u001b[0;34m.\u001b[0m\u001b[0msymbols\u001b[0m\u001b[0;34m.\u001b[0m\u001b[0mindex\u001b[0m\u001b[0;34m)\u001b[0m\u001b[0;34m\u001b[0m\u001b[0;34m\u001b[0m\u001b[0m\n\u001b[1;32m    257\u001b[0m         \u001b[0;32melse\u001b[0m\u001b[0;34m:\u001b[0m\u001b[0;34m\u001b[0m\u001b[0;34m\u001b[0m\u001b[0m\n\u001b[0;32m--> 258\u001b[0;31m             \u001b[0mdf\u001b[0m \u001b[0;34m=\u001b[0m \u001b[0mself\u001b[0m\u001b[0;34m.\u001b[0m\u001b[0m_dl_mult_symbols\u001b[0m\u001b[0;34m(\u001b[0m\u001b[0mself\u001b[0m\u001b[0;34m.\u001b[0m\u001b[0msymbols\u001b[0m\u001b[0;34m)\u001b[0m\u001b[0;34m\u001b[0m\u001b[0;34m\u001b[0m\u001b[0m\n\u001b[0m\u001b[1;32m    259\u001b[0m         \u001b[0;32mreturn\u001b[0m \u001b[0mdf\u001b[0m\u001b[0;34m\u001b[0m\u001b[0;34m\u001b[0m\u001b[0m\n\u001b[1;32m    260\u001b[0m \u001b[0;34m\u001b[0m\u001b[0m\n",
            "\u001b[0;32m/usr/local/lib/python3.7/dist-packages/pandas_datareader/base.py\u001b[0m in \u001b[0;36m_dl_mult_symbols\u001b[0;34m(self, symbols)\u001b[0m\n\u001b[1;32m    275\u001b[0m         \u001b[0;32mif\u001b[0m \u001b[0mlen\u001b[0m\u001b[0;34m(\u001b[0m\u001b[0mpassed\u001b[0m\u001b[0;34m)\u001b[0m \u001b[0;34m==\u001b[0m \u001b[0;36m0\u001b[0m\u001b[0;34m:\u001b[0m\u001b[0;34m\u001b[0m\u001b[0;34m\u001b[0m\u001b[0m\n\u001b[1;32m    276\u001b[0m             \u001b[0mmsg\u001b[0m \u001b[0;34m=\u001b[0m \u001b[0;34m\"No data fetched using {0!r}\"\u001b[0m\u001b[0;34m\u001b[0m\u001b[0;34m\u001b[0m\u001b[0m\n\u001b[0;32m--> 277\u001b[0;31m             \u001b[0;32mraise\u001b[0m \u001b[0mRemoteDataError\u001b[0m\u001b[0;34m(\u001b[0m\u001b[0mmsg\u001b[0m\u001b[0;34m.\u001b[0m\u001b[0mformat\u001b[0m\u001b[0;34m(\u001b[0m\u001b[0mself\u001b[0m\u001b[0;34m.\u001b[0m\u001b[0m__class__\u001b[0m\u001b[0;34m.\u001b[0m\u001b[0m__name__\u001b[0m\u001b[0;34m)\u001b[0m\u001b[0;34m)\u001b[0m\u001b[0;34m\u001b[0m\u001b[0;34m\u001b[0m\u001b[0m\n\u001b[0m\u001b[1;32m    278\u001b[0m         \u001b[0;32mtry\u001b[0m\u001b[0;34m:\u001b[0m\u001b[0;34m\u001b[0m\u001b[0;34m\u001b[0m\u001b[0m\n\u001b[1;32m    279\u001b[0m             \u001b[0;32mif\u001b[0m \u001b[0mlen\u001b[0m\u001b[0;34m(\u001b[0m\u001b[0mstocks\u001b[0m\u001b[0;34m)\u001b[0m \u001b[0;34m>\u001b[0m \u001b[0;36m0\u001b[0m \u001b[0;32mand\u001b[0m \u001b[0mlen\u001b[0m\u001b[0;34m(\u001b[0m\u001b[0mfailed\u001b[0m\u001b[0;34m)\u001b[0m \u001b[0;34m>\u001b[0m \u001b[0;36m0\u001b[0m \u001b[0;32mand\u001b[0m \u001b[0mlen\u001b[0m\u001b[0;34m(\u001b[0m\u001b[0mpassed\u001b[0m\u001b[0;34m)\u001b[0m \u001b[0;34m>\u001b[0m \u001b[0;36m0\u001b[0m\u001b[0;34m:\u001b[0m\u001b[0;34m\u001b[0m\u001b[0;34m\u001b[0m\u001b[0m\n",
            "\u001b[0;31mRemoteDataError\u001b[0m: No data fetched using 'YahooDailyReader'"
          ]
        }
      ]
    },
    {
      "cell_type": "code",
      "metadata": {
        "id": "8R1zZ-KVtoEW"
      },
      "source": [
        "doge_data.to_csv('doge.csv')"
      ],
      "execution_count": null,
      "outputs": []
    },
    {
      "cell_type": "code",
      "metadata": {
        "id": "ktNcZ7opwAjk"
      },
      "source": [
        "import pandas as pd"
      ],
      "execution_count": null,
      "outputs": []
    },
    {
      "cell_type": "code",
      "metadata": {
        "id": "X7WkOvtpwDf1"
      },
      "source": [
        "doge_data = pd.read_csv('doge.csv')"
      ],
      "execution_count": null,
      "outputs": []
    },
    {
      "cell_type": "code",
      "metadata": {
        "colab": {
          "base_uri": "https://localhost:8080/",
          "height": 204
        },
        "id": "JmybbmMuwLdc",
        "outputId": "57bff449-326e-4acf-b103-f7736485df97"
      },
      "source": [
        "doge_data.head()"
      ],
      "execution_count": null,
      "outputs": [
        {
          "output_type": "execute_result",
          "data": {
            "text/html": [
              "<div>\n",
              "<style scoped>\n",
              "    .dataframe tbody tr th:only-of-type {\n",
              "        vertical-align: middle;\n",
              "    }\n",
              "\n",
              "    .dataframe tbody tr th {\n",
              "        vertical-align: top;\n",
              "    }\n",
              "\n",
              "    .dataframe thead th {\n",
              "        text-align: right;\n",
              "    }\n",
              "</style>\n",
              "<table border=\"1\" class=\"dataframe\">\n",
              "  <thead>\n",
              "    <tr style=\"text-align: right;\">\n",
              "      <th></th>\n",
              "      <th>Date</th>\n",
              "      <th>DOGE-INR</th>\n",
              "    </tr>\n",
              "  </thead>\n",
              "  <tbody>\n",
              "    <tr>\n",
              "      <th>0</th>\n",
              "      <td>2020-01-01</td>\n",
              "      <td>0.144779</td>\n",
              "    </tr>\n",
              "    <tr>\n",
              "      <th>1</th>\n",
              "      <td>2020-01-02</td>\n",
              "      <td>0.143318</td>\n",
              "    </tr>\n",
              "    <tr>\n",
              "      <th>2</th>\n",
              "      <td>2020-01-03</td>\n",
              "      <td>0.153954</td>\n",
              "    </tr>\n",
              "    <tr>\n",
              "      <th>3</th>\n",
              "      <td>2020-01-04</td>\n",
              "      <td>0.160827</td>\n",
              "    </tr>\n",
              "    <tr>\n",
              "      <th>4</th>\n",
              "      <td>2020-01-05</td>\n",
              "      <td>0.173602</td>\n",
              "    </tr>\n",
              "  </tbody>\n",
              "</table>\n",
              "</div>"
            ],
            "text/plain": [
              "         Date  DOGE-INR\n",
              "0  2020-01-01  0.144779\n",
              "1  2020-01-02  0.143318\n",
              "2  2020-01-03  0.153954\n",
              "3  2020-01-04  0.160827\n",
              "4  2020-01-05  0.173602"
            ]
          },
          "metadata": {
            "tags": []
          },
          "execution_count": 6
        }
      ]
    },
    {
      "cell_type": "code",
      "metadata": {
        "colab": {
          "base_uri": "https://localhost:8080/",
          "height": 297
        },
        "id": "4h0cX9h_wb8E",
        "outputId": "b60d4033-9eb2-4ced-8ad2-5a47a0bba9c1"
      },
      "source": [
        "doge_data.describe()"
      ],
      "execution_count": null,
      "outputs": [
        {
          "output_type": "execute_result",
          "data": {
            "text/html": [
              "<div>\n",
              "<style scoped>\n",
              "    .dataframe tbody tr th:only-of-type {\n",
              "        vertical-align: middle;\n",
              "    }\n",
              "\n",
              "    .dataframe tbody tr th {\n",
              "        vertical-align: top;\n",
              "    }\n",
              "\n",
              "    .dataframe thead th {\n",
              "        text-align: right;\n",
              "    }\n",
              "</style>\n",
              "<table border=\"1\" class=\"dataframe\">\n",
              "  <thead>\n",
              "    <tr style=\"text-align: right;\">\n",
              "      <th></th>\n",
              "      <th>DOGE-INR</th>\n",
              "    </tr>\n",
              "  </thead>\n",
              "  <tbody>\n",
              "    <tr>\n",
              "      <th>count</th>\n",
              "      <td>532.000000</td>\n",
              "    </tr>\n",
              "    <tr>\n",
              "      <th>mean</th>\n",
              "      <td>4.201403</td>\n",
              "    </tr>\n",
              "    <tr>\n",
              "      <th>std</th>\n",
              "      <td>9.330254</td>\n",
              "    </tr>\n",
              "    <tr>\n",
              "      <th>min</th>\n",
              "      <td>0.114424</td>\n",
              "    </tr>\n",
              "    <tr>\n",
              "      <th>25%</th>\n",
              "      <td>0.188805</td>\n",
              "    </tr>\n",
              "    <tr>\n",
              "      <th>50%</th>\n",
              "      <td>0.229168</td>\n",
              "    </tr>\n",
              "    <tr>\n",
              "      <th>75%</th>\n",
              "      <td>3.554384</td>\n",
              "    </tr>\n",
              "    <tr>\n",
              "      <th>max</th>\n",
              "      <td>50.187649</td>\n",
              "    </tr>\n",
              "  </tbody>\n",
              "</table>\n",
              "</div>"
            ],
            "text/plain": [
              "         DOGE-INR\n",
              "count  532.000000\n",
              "mean     4.201403\n",
              "std      9.330254\n",
              "min      0.114424\n",
              "25%      0.188805\n",
              "50%      0.229168\n",
              "75%      3.554384\n",
              "max     50.187649"
            ]
          },
          "metadata": {
            "tags": []
          },
          "execution_count": 7
        }
      ]
    },
    {
      "cell_type": "code",
      "metadata": {
        "colab": {
          "base_uri": "https://localhost:8080/"
        },
        "id": "0LEpT-9DCTdO",
        "outputId": "4cb3e786-c1c3-4d5d-83bf-11a6c36a45d0"
      },
      "source": [
        "doge_data.shape"
      ],
      "execution_count": null,
      "outputs": [
        {
          "output_type": "execute_result",
          "data": {
            "text/plain": [
              "(532, 2)"
            ]
          },
          "metadata": {
            "tags": []
          },
          "execution_count": 8
        }
      ]
    },
    {
      "cell_type": "code",
      "metadata": {
        "id": "DjC8388tCiNF"
      },
      "source": [
        "doge_data=doge_data.reset_index()['DOGE-INR']"
      ],
      "execution_count": null,
      "outputs": []
    },
    {
      "cell_type": "code",
      "metadata": {
        "colab": {
          "base_uri": "https://localhost:8080/",
          "height": 282
        },
        "id": "ij7sNBc8Cv4d",
        "outputId": "56a5e662-1621-419f-a8b6-0bb85259a43e"
      },
      "source": [
        "import matplotlib.pyplot as plt\n",
        "plt.plot(doge_data)"
      ],
      "execution_count": null,
      "outputs": [
        {
          "output_type": "execute_result",
          "data": {
            "text/plain": [
              "[<matplotlib.lines.Line2D at 0x7f0289814dd0>]"
            ]
          },
          "metadata": {
            "tags": []
          },
          "execution_count": 10
        },
        {
          "output_type": "display_data",
          "data": {
            "image/png": "[encoded data removed]",
            "text/plain": [
              "<Figure size 432x288 with 1 Axes>"
            ]
          },
          "metadata": {
            "tags": [],
            "needs_background": "light"
          }
        }
      ]
    },
    {
      "cell_type": "code",
      "metadata": {
        "id": "lcJ_aPg7DyQd"
      },
      "source": [
        "###LSTM are Sensitive to the scale of the data.So we apply MinMax Scaler\n"
      ],
      "execution_count": null,
      "outputs": []
    },
    {
      "cell_type": "code",
      "metadata": {
        "id": "82ORudSyELRc"
      },
      "source": [
        "import numpy as np"
      ],
      "execution_count": null,
      "outputs": []
    },
    {
      "cell_type": "code",
      "metadata": {
        "id": "FwkNiQB9EQX8"
      },
      "source": [
        "from sklearn.preprocessing import MinMaxScaler\n",
        "scaler=MinMaxScaler(feature_range=(0,1))\n",
        "doge_data=scaler.fit_transform(np.array(doge_data).reshape(-1,1))"
      ],
      "execution_count": null,
      "outputs": []
    },
    {
      "cell_type": "code",
      "metadata": {
        "colab": {
          "base_uri": "https://localhost:8080/"
        },
        "id": "Y-M-31cPE_Zd",
        "outputId": "f8d62276-51e0-4a5a-c05f-2a5d7fe1bed1"
      },
      "source": [
        "doge_data"
      ],
      "execution_count": null,
      "outputs": [
        {
          "output_type": "execute_result",
          "data": {
            "text/plain": [
              "array([[6.06212185e-04],\n",
              "       [5.77034930e-04],\n",
              "       [7.89443895e-04],\n",
              "       [9.26702813e-04],\n",
              "       [1.18182926e-03],\n",
              "       [1.24635484e-03],\n",
              "       [1.21128625e-03],\n",
              "       [9.86475327e-04],\n",
              "       [9.22668718e-04],\n",
              "       [1.05467552e-03],\n",
              "       [9.93484999e-04],\n",
              "       [1.08870553e-03],\n",
              "       [1.04520926e-03],\n",
              "       [1.21000811e-03],\n",
              "       [1.06040705e-03],\n",
              "       [1.03760055e-03],\n",
              "       [1.24753299e-03],\n",
              "       [1.27185749e-03],\n",
              "       [1.12736898e-03],\n",
              "       [1.08291418e-03],\n",
              "       [1.09299942e-03],\n",
              "       [1.01441432e-03],\n",
              "       [9.45195788e-04],\n",
              "       [9.56659152e-04],\n",
              "       [9.30277731e-04],\n",
              "       [9.97698836e-04],\n",
              "       [1.09331903e-03],\n",
              "       [1.19994281e-03],\n",
              "       [1.11808276e-03],\n",
              "       [1.20295826e-03],\n",
              "       [1.13262140e-03],\n",
              "       [1.17326172e-03],\n",
              "       [1.23958473e-03],\n",
              "       [1.19017718e-03],\n",
              "       [1.26986038e-03],\n",
              "       [1.38573080e-03],\n",
              "       [1.49279382e-03],\n",
              "       [1.66925541e-03],\n",
              "       [2.22605991e-03],\n",
              "       [2.33126598e-03],\n",
              "       [1.96713922e-03],\n",
              "       [2.04370697e-03],\n",
              "       [2.11909657e-03],\n",
              "       [2.02217861e-03],\n",
              "       [2.18567908e-03],\n",
              "       [1.88531905e-03],\n",
              "       [1.67792265e-03],\n",
              "       [1.58016578e-03],\n",
              "       [1.77396214e-03],\n",
              "       [1.46832975e-03],\n",
              "       [1.53163701e-03],\n",
              "       [1.51685852e-03],\n",
              "       [1.44957728e-03],\n",
              "       [1.56261169e-03],\n",
              "       [1.44094992e-03],\n",
              "       [1.26942084e-03],\n",
              "       [1.06314307e-03],\n",
              "       [1.04207388e-03],\n",
              "       [1.01371559e-03],\n",
              "       [9.36029203e-04],\n",
              "       [9.93644803e-04],\n",
              "       [1.11179177e-03],\n",
              "       [1.37967965e-03],\n",
              "       [1.23455193e-03],\n",
              "       [1.41081384e-03],\n",
              "       [1.40294533e-03],\n",
              "       [1.26866199e-03],\n",
              "       [9.46953339e-04],\n",
              "       [1.00652587e-03],\n",
              "       [9.85836407e-04],\n",
              "       [9.49529553e-04],\n",
              "       [0.00000000e+00],\n",
              "       [2.81667524e-04],\n",
              "       [1.75203396e-04],\n",
              "       [2.02902832e-04],\n",
              "       [7.01772115e-05],\n",
              "       [6.15498549e-05],\n",
              "       [5.92532241e-05],\n",
              "       [3.76528569e-04],\n",
              "       [3.91886162e-04],\n",
              "       [4.09959539e-04],\n",
              "       [3.25962814e-04],\n",
              "       [4.74385427e-04],\n",
              "       [5.22494895e-04],\n",
              "       [4.92738535e-04],\n",
              "       [4.63101805e-04],\n",
              "       [4.17029323e-04],\n",
              "       [3.73293496e-04],\n",
              "       [4.72408256e-04],\n",
              "       [3.09606517e-04],\n",
              "       [4.39416526e-04],\n",
              "       [5.69885393e-04],\n",
              "       [5.77933644e-04],\n",
              "       [5.42944804e-04],\n",
              "       [5.84703758e-04],\n",
              "       [5.54587912e-04],\n",
              "       [7.19226658e-04],\n",
              "       [7.32167841e-04],\n",
              "       [7.67076630e-04],\n",
              "       [7.79418472e-04],\n",
              "       [7.09081605e-04],\n",
              "       [7.41773665e-04],\n",
              "       [7.42412883e-04],\n",
              "       [6.98117592e-04],\n",
              "       [6.95161954e-04],\n",
              "       [6.79504988e-04],\n",
              "       [8.27208629e-04],\n",
              "       [8.63475607e-04],\n",
              "       [8.62317099e-04],\n",
              "       [7.46846340e-04],\n",
              "       [7.45348583e-04],\n",
              "       [7.83213009e-04],\n",
              "       [8.21716654e-04],\n",
              "       [9.19733019e-04],\n",
              "       [9.78127703e-04],\n",
              "       [1.38487196e-03],\n",
              "       [1.29781931e-03],\n",
              "       [1.26812276e-03],\n",
              "       [1.49850541e-03],\n",
              "       [1.39383886e-03],\n",
              "       [1.49303338e-03],\n",
              "       [1.57561269e-03],\n",
              "       [1.50160092e-03],\n",
              "       [1.46281784e-03],\n",
              "       [1.48270858e-03],\n",
              "       [1.56500816e-03],\n",
              "       [1.74262797e-03],\n",
              "       [1.67167182e-03],\n",
              "       [1.65533576e-03],\n",
              "       [1.42483348e-03],\n",
              "       [1.37396776e-03],\n",
              "       [1.42201741e-03],\n",
              "       [1.51282443e-03],\n",
              "       [1.59594267e-03],\n",
              "       [1.51196589e-03],\n",
              "       [1.52219069e-03],\n",
              "       [1.55855766e-03],\n",
              "       [1.55538210e-03],\n",
              "       [1.55272614e-03],\n",
              "       [1.49824592e-03],\n",
              "       [1.46878893e-03],\n",
              "       [1.55923646e-03],\n",
              "       [1.57573232e-03],\n",
              "       [1.44506377e-03],\n",
              "       [1.56428919e-03],\n",
              "       [1.46333713e-03],\n",
              "       [1.51945467e-03],\n",
              "       [1.52997945e-03],\n",
              "       [1.53423316e-03],\n",
              "       [1.65921005e-03],\n",
              "       [1.56782394e-03],\n",
              "       [1.70628124e-03],\n",
              "       [1.55448339e-03],\n",
              "       [1.59999700e-03],\n",
              "       [1.67906122e-03],\n",
              "       [1.63200997e-03],\n",
              "       [1.61910896e-03],\n",
              "       [1.64523059e-03],\n",
              "       [1.60636746e-03],\n",
              "       [1.58829408e-03],\n",
              "       [1.62056684e-03],\n",
              "       [1.43561746e-03],\n",
              "       [1.53774797e-03],\n",
              "       [1.55733934e-03],\n",
              "       [1.52316946e-03],\n",
              "       [1.47689700e-03],\n",
              "       [1.50932956e-03],\n",
              "       [1.50545527e-03],\n",
              "       [1.48602370e-03],\n",
              "       [1.42261675e-03],\n",
              "       [1.44077018e-03],\n",
              "       [1.44061038e-03],\n",
              "       [1.45894355e-03],\n",
              "       [1.46615290e-03],\n",
              "       [1.39016425e-03],\n",
              "       [1.36160598e-03],\n",
              "       [1.27744915e-03],\n",
              "       [1.20817080e-03],\n",
              "       [1.22684322e-03],\n",
              "       [1.20267883e-03],\n",
              "       [1.21492068e-03],\n",
              "       [1.26157257e-03],\n",
              "       [1.24657446e-03],\n",
              "       [1.16838902e-03],\n",
              "       [1.15908257e-03],\n",
              "       [1.15848353e-03],\n",
              "       [1.61197936e-03],\n",
              "       [2.33641841e-03],\n",
              "       [4.82351619e-03],\n",
              "       [4.31254432e-03],\n",
              "       [2.99060035e-03],\n",
              "       [3.43782542e-03],\n",
              "       [3.16282787e-03],\n",
              "       [2.48765679e-03],\n",
              "       [2.67072870e-03],\n",
              "       [2.34516569e-03],\n",
              "       [2.21142128e-03],\n",
              "       [2.29296202e-03],\n",
              "       [2.90901973e-03],\n",
              "       [2.77331869e-03],\n",
              "       [2.55054475e-03],\n",
              "       [2.63442185e-03],\n",
              "       [2.60989796e-03],\n",
              "       [2.64007363e-03],\n",
              "       [2.51949032e-03],\n",
              "       [2.54101868e-03],\n",
              "       [2.54417400e-03],\n",
              "       [2.42548781e-03],\n",
              "       [2.49758223e-03],\n",
              "       [2.48472110e-03],\n",
              "       [2.53956080e-03],\n",
              "       [2.54131835e-03],\n",
              "       [3.23456310e-03],\n",
              "       [2.70617672e-03],\n",
              "       [2.80193648e-03],\n",
              "       [3.01346696e-03],\n",
              "       [2.96206231e-03],\n",
              "       [3.04018793e-03],\n",
              "       [3.00811456e-03],\n",
              "       [2.97350514e-03],\n",
              "       [2.90368756e-03],\n",
              "       [2.94776323e-03],\n",
              "       [2.77297884e-03],\n",
              "       [2.91782713e-03],\n",
              "       [2.96957103e-03],\n",
              "       [3.03795126e-03],\n",
              "       [3.00597788e-03],\n",
              "       [2.98564730e-03],\n",
              "       [3.07547585e-03],\n",
              "       [2.94844233e-03],\n",
              "       [2.84131919e-03],\n",
              "       [2.89533964e-03],\n",
              "       [2.79227084e-03],\n",
              "       [2.86546365e-03],\n",
              "       [2.82336515e-03],\n",
              "       [2.77924960e-03],\n",
              "       [2.61425137e-03],\n",
              "       [2.61389189e-03],\n",
              "       [2.43349618e-03],\n",
              "       [2.48823590e-03],\n",
              "       [2.50814688e-03],\n",
              "       [2.53436850e-03],\n",
              "       [2.43820937e-03],\n",
              "       [2.46596862e-03],\n",
              "       [2.28275685e-03],\n",
              "       [1.82568640e-03],\n",
              "       [1.95491701e-03],\n",
              "       [1.74959776e-03],\n",
              "       [1.79399275e-03],\n",
              "       [1.83860735e-03],\n",
              "       [1.77545990e-03],\n",
              "       [1.78454673e-03],\n",
              "       [1.83445362e-03],\n",
              "       [1.83261632e-03],\n",
              "       [1.85116911e-03],\n",
              "       [1.78864064e-03],\n",
              "       [1.82307031e-03],\n",
              "       [1.87769010e-03],\n",
              "       [1.86560775e-03],\n",
              "       [1.84937168e-03],\n",
              "       [1.83714947e-03],\n",
              "       [1.82177194e-03],\n",
              "       [1.79445222e-03],\n",
              "       [1.57998604e-03],\n",
              "       [1.61367680e-03],\n",
              "       [1.49347291e-03],\n",
              "       [1.61902891e-03],\n",
              "       [1.69781369e-03],\n",
              "       [1.69997030e-03],\n",
              "       [1.69090371e-03],\n",
              "       [1.63083182e-03],\n",
              "       [1.66240555e-03],\n",
              "       [1.59480440e-03],\n",
              "       [1.54036406e-03],\n",
              "       [1.49860540e-03],\n",
              "       [1.52944022e-03],\n",
              "       [1.58979184e-03],\n",
              "       [1.55090877e-03],\n",
              "       [1.55280589e-03],\n",
              "       [1.52314952e-03],\n",
              "       [1.52468715e-03],\n",
              "       [1.58276223e-03],\n",
              "       [1.61345718e-03],\n",
              "       [1.57497347e-03],\n",
              "       [1.51384307e-03],\n",
              "       [1.54609589e-03],\n",
              "       [1.50068226e-03],\n",
              "       [1.50855077e-03],\n",
              "       [1.51092731e-03],\n",
              "       [1.53165695e-03],\n",
              "       [1.58763492e-03],\n",
              "       [1.62408164e-03],\n",
              "       [1.61779094e-03],\n",
              "       [1.61571378e-03],\n",
              "       [1.62709710e-03],\n",
              "       [1.67055349e-03],\n",
              "       [1.66010877e-03],\n",
              "       [1.55975575e-03],\n",
              "       [1.54322000e-03],\n",
              "       [1.58667640e-03],\n",
              "       [1.55326536e-03],\n",
              "       [1.56303099e-03],\n",
              "       [1.45790497e-03],\n",
              "       [1.48368705e-03],\n",
              "       [1.46828988e-03],\n",
              "       [1.58933236e-03],\n",
              "       [1.79249499e-03],\n",
              "       [1.66068787e-03],\n",
              "       [1.71956167e-03],\n",
              "       [1.65771230e-03],\n",
              "       [1.79964453e-03],\n",
              "       [1.83700990e-03],\n",
              "       [1.87103991e-03],\n",
              "       [1.91481591e-03],\n",
              "       [1.84270156e-03],\n",
              "       [1.84627618e-03],\n",
              "       [2.00370557e-03],\n",
              "       [2.08616496e-03],\n",
              "       [2.02787026e-03],\n",
              "       [2.02289758e-03],\n",
              "       [2.13493358e-03],\n",
              "       [2.90842039e-03],\n",
              "       [2.64508619e-03],\n",
              "       [3.12376535e-03],\n",
              "       [3.92393326e-03],\n",
              "       [3.20674403e-03],\n",
              "       [2.50676875e-03],\n",
              "       [2.55092418e-03],\n",
              "       [2.74416107e-03],\n",
              "       [2.80663002e-03],\n",
              "       [2.96254142e-03],\n",
              "       [2.62102148e-03],\n",
              "       [2.67889688e-03],\n",
              "       [2.77615410e-03],\n",
              "       [2.57566797e-03],\n",
              "       [2.72121470e-03],\n",
              "       [2.70903266e-03],\n",
              "       [2.64161156e-03],\n",
              "       [2.39601118e-03],\n",
              "       [2.37052847e-03],\n",
              "       [2.29008613e-03],\n",
              "       [2.24872684e-03],\n",
              "       [2.37286513e-03],\n",
              "       [2.50962470e-03],\n",
              "       [2.46700720e-03],\n",
              "       [2.42211287e-03],\n",
              "       [2.73669222e-03],\n",
              "       [3.19188549e-03],\n",
              "       [3.38640053e-03],\n",
              "       [3.48715291e-03],\n",
              "       [4.51209215e-03],\n",
              "       [4.78377398e-03],\n",
              "       [4.38761432e-03],\n",
              "       [3.27080984e-03],\n",
              "       [4.42893373e-03],\n",
              "       [4.44596883e-03],\n",
              "       [4.31619870e-03],\n",
              "       [4.41068091e-03],\n",
              "       [4.45902994e-03],\n",
              "       [4.29479026e-03],\n",
              "       [4.49036411e-03],\n",
              "       [4.54632185e-03],\n",
              "       [6.01325339e-03],\n",
              "       [1.32089360e-02],\n",
              "       [1.19759409e-02],\n",
              "       [1.19716080e-02],\n",
              "       [1.22107969e-02],\n",
              "       [1.30013997e-02],\n",
              "       [1.20046997e-02],\n",
              "       [1.21441551e-02],\n",
              "       [1.26536093e-02],\n",
              "       [1.21589928e-02],\n",
              "       [1.06859506e-02],\n",
              "       [9.49299771e-03],\n",
              "       [1.03056077e-02],\n",
              "       [1.14310190e-02],\n",
              "       [1.14038588e-02],\n",
              "       [1.12456114e-02],\n",
              "       [1.09590906e-02],\n",
              "       [1.11197950e-02],\n",
              "       [1.10137503e-02],\n",
              "       [1.09068069e-02],\n",
              "       [9.61294210e-03],\n",
              "       [1.01408693e-02],\n",
              "       [1.02219702e-02],\n",
              "       [1.04370545e-02],\n",
              "       [9.93111541e-03],\n",
              "       [9.73576237e-03],\n",
              "       [8.62776470e-03],\n",
              "       [1.60034234e-02],\n",
              "       [6.63827040e-02],\n",
              "       [3.87391288e-02],\n",
              "       [5.18754274e-02],\n",
              "       [4.86410474e-02],\n",
              "       [4.36156055e-02],\n",
              "       [5.17257861e-02],\n",
              "       [7.53889751e-02],\n",
              "       [6.59409319e-02],\n",
              "       [8.14366987e-02],\n",
              "       [1.12245614e-01],\n",
              "       [1.12521270e-01],\n",
              "       [9.96651226e-02],\n",
              "       [1.03707683e-01],\n",
              "       [9.88889766e-02],\n",
              "       [9.92929241e-02],\n",
              "       [9.40466057e-02],\n",
              "       [8.83795701e-02],\n",
              "       [7.98086623e-02],\n",
              "       [7.56709594e-02],\n",
              "       [6.94945875e-02],\n",
              "       [8.40491067e-02],\n",
              "       [7.76065440e-02],\n",
              "       [7.65335772e-02],\n",
              "       [7.88366418e-02],\n",
              "       [7.54575106e-02],\n",
              "       [6.62214973e-02],\n",
              "       [7.94826589e-02],\n",
              "       [7.10037556e-02],\n",
              "       [7.19089308e-02],\n",
              "       [7.13254833e-02],\n",
              "       [6.84332622e-02],\n",
              "       [7.17954571e-02],\n",
              "       [7.12691845e-02],\n",
              "       [7.14713297e-02],\n",
              "       [7.08121569e-02],\n",
              "       [7.02165869e-02],\n",
              "       [7.22272636e-02],\n",
              "       [7.38920675e-02],\n",
              "       [8.84376211e-02],\n",
              "       [8.20090569e-02],\n",
              "       [7.90324210e-02],\n",
              "       [7.88326899e-02],\n",
              "       [7.80626384e-02],\n",
              "       [8.83448214e-02],\n",
              "       [8.27716235e-02],\n",
              "       [8.03886959e-02],\n",
              "       [8.25897476e-02],\n",
              "       [8.12702974e-02],\n",
              "       [8.09933078e-02],\n",
              "       [8.20998092e-02],\n",
              "       [8.30145215e-02],\n",
              "       [8.04831715e-02],\n",
              "       [7.71617580e-02],\n",
              "       [7.53771715e-02],\n",
              "       [7.27233775e-02],\n",
              "       [7.23222249e-02],\n",
              "       [7.57735723e-02],\n",
              "       [7.63892068e-02],\n",
              "       [7.54073445e-02],\n",
              "       [7.62365135e-02],\n",
              "       [7.67739659e-02],\n",
              "       [7.61582647e-02],\n",
              "       [8.84381258e-02],\n",
              "       [8.22140351e-02],\n",
              "       [7.94881726e-02],\n",
              "       [8.18330566e-02],\n",
              "       [8.50769879e-02],\n",
              "       [9.23054956e-02],\n",
              "       [8.54227416e-02],\n",
              "       [8.92170049e-02],\n",
              "       [8.97722125e-02],\n",
              "       [9.29975648e-02],\n",
              "       [1.09121612e-01],\n",
              "       [1.03697599e-01],\n",
              "       [1.38016112e-01],\n",
              "       [1.79788309e-01],\n",
              "       [2.69635347e-01],\n",
              "       [5.42527267e-01],\n",
              "       [4.20819978e-01],\n",
              "       [4.74930949e-01],\n",
              "       [6.06809385e-01],\n",
              "       [4.79131340e-01],\n",
              "       [4.60065062e-01],\n",
              "       [3.89072077e-01],\n",
              "       [3.69280124e-01],\n",
              "       [4.01735226e-01],\n",
              "       [3.73170149e-01],\n",
              "       [4.02133660e-01],\n",
              "       [4.03091386e-01],\n",
              "       [4.78080328e-01],\n",
              "       [4.49351382e-01],\n",
              "       [4.97218560e-01],\n",
              "       [5.79235288e-01],\n",
              "       [5.54163096e-01],\n",
              "       [6.49052703e-01],\n",
              "       [7.95330560e-01],\n",
              "       [9.66943781e-01],\n",
              "       [8.51587131e-01],\n",
              "       [1.00000000e+00],\n",
              "       [9.29319438e-01],\n",
              "       [8.32108441e-01],\n",
              "       [6.58196416e-01],\n",
              "       [7.23406855e-01],\n",
              "       [5.64788747e-01],\n",
              "       [7.16975234e-01],\n",
              "       [8.16661626e-01],\n",
              "       [7.41100897e-01],\n",
              "       [7.51233077e-01],\n",
              "       [7.11625250e-01],\n",
              "       [6.93047568e-01],\n",
              "       [4.84849780e-01],\n",
              "       [5.81320247e-01],\n",
              "       [5.21037970e-01],\n",
              "       [4.96267423e-01],\n",
              "       [4.46286832e-01],\n",
              "       [5.30336905e-01],\n",
              "       [5.01228800e-01],\n",
              "       [5.11040100e-01],\n",
              "       [4.81002036e-01],\n",
              "       [4.47641393e-01],\n",
              "       [4.35937761e-01],\n",
              "       [4.34656983e-01],\n",
              "       [4.69367540e-01],\n",
              "       [5.36166724e-01],\n",
              "       [6.14610422e-01],\n",
              "       [5.81160226e-01],\n",
              "       [5.45664800e-01],\n",
              "       [5.39629213e-01],\n",
              "       [5.39090718e-01],\n",
              "       [4.79082469e-01],\n",
              "       [4.75277540e-01],\n",
              "       [4.98145852e-01],\n",
              "       [4.73571931e-01],\n",
              "       [4.64775800e-01],\n",
              "       [4.54135331e-01],\n",
              "       [4.72121647e-01],\n",
              "       [4.83050352e-01],\n",
              "       [4.78723726e-01],\n",
              "       [4.51455768e-01],\n",
              "       [4.52220639e-01],\n",
              "       [4.32263142e-01],\n",
              "       [4.23206467e-01]])"
            ]
          },
          "metadata": {
            "tags": []
          },
          "execution_count": 14
        }
      ]
    },
    {
      "cell_type": "code",
      "metadata": {
        "id": "_enetQz1FK28"
      },
      "source": [
        "###spiliting data into train and test split\n",
        "\n",
        "training_size=int(len(doge_data)*0.70)\n",
        "test_size=len(doge_data)-training_size\n",
        "train_data,test_data=doge_data[0:training_size,:],doge_data[training_size:len(doge_data),:1]"
      ],
      "execution_count": null,
      "outputs": []
    },
    {
      "cell_type": "code",
      "metadata": {
        "colab": {
          "base_uri": "https://localhost:8080/"
        },
        "id": "8G7SzZ0EGkPc",
        "outputId": "b7e813bf-28e7-4e22-992a-e5778d94b21a"
      },
      "source": [
        "training_size,test_size"
      ],
      "execution_count": null,
      "outputs": [
        {
          "output_type": "execute_result",
          "data": {
            "text/plain": [
              "(372, 160)"
            ]
          },
          "metadata": {
            "tags": []
          },
          "execution_count": 16
        }
      ]
    },
    {
      "cell_type": "code",
      "metadata": {
        "id": "gXZcFwI_HArF"
      },
      "source": [
        "import numpy\n",
        "#convert a array of values into a dataset matrix\n",
        "\n",
        "def create_dataset(dataset, time_step=1):\n",
        "  dataX, dataY = [], []\n",
        "  for i in range(len(dataset)-time_step-1):\n",
        "    a = dataset[i:(i + time_step), 0]\n",
        "    dataX.append(a)\n",
        "    dataY.append(dataset[i + time_step, 0])\n",
        "    return numpy.array(dataX), numpy.array(dataY)"
      ],
      "execution_count": null,
      "outputs": []
    },
    {
      "cell_type": "code",
      "metadata": {
        "id": "0yOYIE4JYzIt"
      },
      "source": [
        "## Reshape into X=t,t+1,t+2,t+3 and Y=t+4\n",
        "\n",
        "time_step = 100\n",
        "X_train, y_train = create_dataset(train_data, time_step)\n",
        "X_test, y_test = create_dataset(test_data,time_step)"
      ],
      "execution_count": null,
      "outputs": []
    },
    {
      "cell_type": "code",
      "metadata": {
        "colab": {
          "base_uri": "https://localhost:8080/"
        },
        "id": "vlmHZmxaZQov",
        "outputId": "7affecf1-8654-4a6f-9d5f-a71666bdec64"
      },
      "source": [
        "print(X_train)"
      ],
      "execution_count": null,
      "outputs": [
        {
          "output_type": "stream",
          "text": [
            "[[6.06212185e-04 5.77034930e-04 7.89443895e-04 9.26702813e-04\n",
            "  1.18182926e-03 1.24635484e-03 1.21128625e-03 9.86475327e-04\n",
            "  9.22668718e-04 1.05467552e-03 9.93484999e-04 1.08870553e-03\n",
            "  1.04520926e-03 1.21000811e-03 1.06040705e-03 1.03760055e-03\n",
            "  1.24753299e-03 1.27185749e-03 1.12736898e-03 1.08291418e-03\n",
            "  1.09299942e-03 1.01441432e-03 9.45195788e-04 9.56659152e-04\n",
            "  9.30277731e-04 9.97698836e-04 1.09331903e-03 1.19994281e-03\n",
            "  1.11808276e-03 1.20295826e-03 1.13262140e-03 1.17326172e-03\n",
            "  1.23958473e-03 1.19017718e-03 1.26986038e-03 1.38573080e-03\n",
            "  1.49279382e-03 1.66925541e-03 2.22605991e-03 2.33126598e-03\n",
            "  1.96713922e-03 2.04370697e-03 2.11909657e-03 2.02217861e-03\n",
            "  2.18567908e-03 1.88531905e-03 1.67792265e-03 1.58016578e-03\n",
            "  1.77396214e-03 1.46832975e-03 1.53163701e-03 1.51685852e-03\n",
            "  1.44957728e-03 1.56261169e-03 1.44094992e-03 1.26942084e-03\n",
            "  1.06314307e-03 1.04207388e-03 1.01371559e-03 9.36029203e-04\n",
            "  9.93644803e-04 1.11179177e-03 1.37967965e-03 1.23455193e-03\n",
            "  1.41081384e-03 1.40294533e-03 1.26866199e-03 9.46953339e-04\n",
            "  1.00652587e-03 9.85836407e-04 9.49529553e-04 0.00000000e+00\n",
            "  2.81667524e-04 1.75203396e-04 2.02902832e-04 7.01772115e-05\n",
            "  6.15498549e-05 5.92532241e-05 3.76528569e-04 3.91886162e-04\n",
            "  4.09959539e-04 3.25962814e-04 4.74385427e-04 5.22494895e-04\n",
            "  4.92738535e-04 4.63101805e-04 4.17029323e-04 3.73293496e-04\n",
            "  4.72408256e-04 3.09606517e-04 4.39416526e-04 5.69885393e-04\n",
            "  5.77933644e-04 5.42944804e-04 5.84703758e-04 5.54587912e-04\n",
            "  7.19226658e-04 7.32167841e-04 7.67076630e-04 7.79418472e-04]]\n"
          ],
          "name": "stdout"
        }
      ]
    },
    {
      "cell_type": "code",
      "metadata": {
        "colab": {
          "base_uri": "https://localhost:8080/"
        },
        "id": "yxO1Yy4mZfRO",
        "outputId": "0a22b298-6062-4378-aa0e-942a93cce03a"
      },
      "source": [
        "print(X_train.shape), print(y_train.shape)"
      ],
      "execution_count": null,
      "outputs": [
        {
          "output_type": "stream",
          "text": [
            "(1, 100)\n",
            "(1,)\n"
          ],
          "name": "stdout"
        },
        {
          "output_type": "execute_result",
          "data": {
            "text/plain": [
              "(None, None)"
            ]
          },
          "metadata": {
            "tags": []
          },
          "execution_count": 20
        }
      ]
    },
    {
      "cell_type": "code",
      "metadata": {
        "colab": {
          "base_uri": "https://localhost:8080/"
        },
        "id": "7y9zbYI1Zp5e",
        "outputId": "0f2f9243-5730-41ab-b898-62cc1f6008b9"
      },
      "source": [
        "print(X_test.shape), print(y_test.shape)"
      ],
      "execution_count": null,
      "outputs": [
        {
          "output_type": "stream",
          "text": [
            "(1, 100)\n",
            "(1,)\n"
          ],
          "name": "stdout"
        },
        {
          "output_type": "execute_result",
          "data": {
            "text/plain": [
              "(None, None)"
            ]
          },
          "metadata": {
            "tags": []
          },
          "execution_count": 23
        }
      ]
    },
    {
      "cell_type": "code",
      "metadata": {
        "id": "B777qlMwZzYx"
      },
      "source": [
        "X_train = X_train.reshape(X_train.shape[0],X_train.shape[1] , 1)\n",
        "X_test = X_test.reshape(X_test.shape[0],X_test.shape[1] , 1)"
      ],
      "execution_count": null,
      "outputs": []
    },
    {
      "cell_type": "code",
      "metadata": {
        "id": "2wdieYK4nHeK"
      },
      "source": [
        "from tensorflow.keras.models import Sequential\n",
        "from tensorflow.keras.layers import Dense\n",
        "from tensorflow.keras.layers import LSTM"
      ],
      "execution_count": null,
      "outputs": []
    },
    {
      "cell_type": "code",
      "metadata": {
        "id": "N65wgukznfgr"
      },
      "source": [
        "model=Sequential()\n",
        "model.add(LSTM(50,return_sequences=True,input_shape=(100,1)))\n",
        "model.add(LSTM(50,return_sequences=True))\n",
        "model.add(LSTM(50))\n",
        "model.add(Dense(1))\n",
        "model.compile(loss='mean_squared_error',optimizer='adam')"
      ],
      "execution_count": null,
      "outputs": []
    },
    {
      "cell_type": "code",
      "metadata": {
        "colab": {
          "base_uri": "https://localhost:8080/"
        },
        "id": "mHV9-5yVonva",
        "outputId": "f9aa4aac-86e1-45cb-e337-408f7ce43549"
      },
      "source": [
        "model.summary()"
      ],
      "execution_count": null,
      "outputs": [
        {
          "output_type": "stream",
          "text": [
            "Model: \"sequential\"\n",
            "_________________________________________________________________\n",
            "Layer (type)                 Output Shape              Param #   \n",
            "=================================================================\n",
            "lstm (LSTM)                  (None, 100, 50)           10400     \n",
            "_________________________________________________________________\n",
            "lstm_1 (LSTM)                (None, 100, 50)           20200     \n",
            "_________________________________________________________________\n",
            "lstm_2 (LSTM)                (None, 50)                20200     \n",
            "_________________________________________________________________\n",
            "dense (Dense)                (None, 1)                 51        \n",
            "=================================================================\n",
            "Total params: 50,851\n",
            "Trainable params: 50,851\n",
            "Non-trainable params: 0\n",
            "_________________________________________________________________\n"
          ],
          "name": "stdout"
        }
      ]
    },
    {
      "cell_type": "code",
      "metadata": {
        "colab": {
          "base_uri": "https://localhost:8080/"
        },
        "id": "lwGB4I4norxC",
        "outputId": "f64305e5-e131-4c02-9874-e67e02d137bc"
      },
      "source": [
        "model.fit(X_train,y_train,validation_data=(X_test,y_test),epochs=100,batch_size=64,verbose=1)"
      ],
      "execution_count": null,
      "outputs": [
        {
          "output_type": "stream",
          "text": [
            "Epoch 1/100\n",
            "1/1 [==============================] - 6s 6s/step - loss: 5.4275e-07 - val_loss: 0.1999\n",
            "Epoch 2/100\n",
            "1/1 [==============================] - 0s 110ms/step - loss: 4.0360e-04 - val_loss: 0.2121\n",
            "Epoch 3/100\n",
            "1/1 [==============================] - 0s 109ms/step - loss: 1.9647e-05 - val_loss: 0.2222\n",
            "Epoch 4/100\n",
            "1/1 [==============================] - 0s 106ms/step - loss: 6.4546e-05 - val_loss: 0.2255\n",
            "Epoch 5/100\n",
            "1/1 [==============================] - 0s 109ms/step - loss: 1.7080e-04 - val_loss: 0.2225\n",
            "Epoch 6/100\n",
            "1/1 [==============================] - 0s 105ms/step - loss: 1.4091e-04 - val_loss: 0.2162\n",
            "Epoch 7/100\n",
            "1/1 [==============================] - 0s 101ms/step - loss: 5.4747e-05 - val_loss: 0.2089\n",
            "Epoch 8/100\n",
            "1/1 [==============================] - 0s 103ms/step - loss: 2.8339e-06 - val_loss: 0.2021\n",
            "Epoch 9/100\n",
            "1/1 [==============================] - 0s 113ms/step - loss: 1.4442e-05 - val_loss: 0.1978\n",
            "Epoch 10/100\n",
            "1/1 [==============================] - 0s 109ms/step - loss: 5.4603e-05 - val_loss: 0.1968\n",
            "Epoch 11/100\n",
            "1/1 [==============================] - 0s 105ms/step - loss: 6.8079e-05 - val_loss: 0.1983\n",
            "Epoch 12/100\n",
            "1/1 [==============================] - 0s 107ms/step - loss: 4.9439e-05 - val_loss: 0.2011\n",
            "Epoch 13/100\n",
            "1/1 [==============================] - 0s 129ms/step - loss: 2.1926e-05 - val_loss: 0.2043\n",
            "Epoch 14/100\n",
            "1/1 [==============================] - 0s 122ms/step - loss: 3.9343e-06 - val_loss: 0.2072\n",
            "Epoch 15/100\n",
            "1/1 [==============================] - 0s 109ms/step - loss: 2.8515e-07 - val_loss: 0.2096\n",
            "Epoch 16/100\n",
            "1/1 [==============================] - 0s 112ms/step - loss: 6.4569e-06 - val_loss: 0.2113\n",
            "Epoch 17/100\n",
            "1/1 [==============================] - 0s 102ms/step - loss: 1.4874e-05 - val_loss: 0.2123\n",
            "Epoch 18/100\n",
            "1/1 [==============================] - 0s 111ms/step - loss: 1.9522e-05 - val_loss: 0.2127\n",
            "Epoch 19/100\n",
            "1/1 [==============================] - 0s 104ms/step - loss: 1.8183e-05 - val_loss: 0.2125\n",
            "Epoch 20/100\n",
            "1/1 [==============================] - 0s 111ms/step - loss: 1.2308e-05 - val_loss: 0.2120\n",
            "Epoch 21/100\n",
            "1/1 [==============================] - 0s 109ms/step - loss: 5.3570e-06 - val_loss: 0.2113\n",
            "Epoch 22/100\n",
            "1/1 [==============================] - 0s 107ms/step - loss: 7.6955e-07 - val_loss: 0.2105\n",
            "Epoch 23/100\n",
            "1/1 [==============================] - 0s 103ms/step - loss: 3.4623e-07 - val_loss: 0.2098\n",
            "Epoch 24/100\n",
            "1/1 [==============================] - 0s 104ms/step - loss: 3.4444e-06 - val_loss: 0.2093\n",
            "Epoch 25/100\n",
            "1/1 [==============================] - 0s 113ms/step - loss: 7.3845e-06 - val_loss: 0.2092\n",
            "Epoch 26/100\n",
            "1/1 [==============================] - 0s 110ms/step - loss: 9.2611e-06 - val_loss: 0.2094\n",
            "Epoch 27/100\n",
            "1/1 [==============================] - 0s 125ms/step - loss: 7.9952e-06 - val_loss: 0.2099\n",
            "Epoch 28/100\n",
            "1/1 [==============================] - 0s 109ms/step - loss: 4.7457e-06 - val_loss: 0.2105\n",
            "Epoch 29/100\n",
            "1/1 [==============================] - 0s 117ms/step - loss: 1.6063e-06 - val_loss: 0.2112\n",
            "Epoch 30/100\n",
            "1/1 [==============================] - 0s 106ms/step - loss: 7.6745e-08 - val_loss: 0.2118\n",
            "Epoch 31/100\n",
            "1/1 [==============================] - 0s 108ms/step - loss: 4.0271e-07 - val_loss: 0.2123\n",
            "Epoch 32/100\n",
            "1/1 [==============================] - 0s 109ms/step - loss: 1.8241e-06 - val_loss: 0.2126\n",
            "Epoch 33/100\n",
            "1/1 [==============================] - 0s 108ms/step - loss: 3.2383e-06 - val_loss: 0.2127\n",
            "Epoch 34/100\n",
            "1/1 [==============================] - 0s 109ms/step - loss: 3.8171e-06 - val_loss: 0.2125\n",
            "Epoch 35/100\n",
            "1/1 [==============================] - 0s 114ms/step - loss: 3.3309e-06 - val_loss: 0.2122\n",
            "Epoch 36/100\n",
            "1/1 [==============================] - 0s 120ms/step - loss: 2.1279e-06 - val_loss: 0.2117\n",
            "Epoch 37/100\n",
            "1/1 [==============================] - 0s 116ms/step - loss: 8.5621e-07 - val_loss: 0.2112\n",
            "Epoch 38/100\n",
            "1/1 [==============================] - 0s 113ms/step - loss: 9.6940e-08 - val_loss: 0.2107\n",
            "Epoch 39/100\n",
            "1/1 [==============================] - 0s 112ms/step - loss: 8.4968e-08 - val_loss: 0.2102\n",
            "Epoch 40/100\n",
            "1/1 [==============================] - 0s 104ms/step - loss: 6.3726e-07 - val_loss: 0.2099\n",
            "Epoch 41/100\n",
            "1/1 [==============================] - 0s 105ms/step - loss: 1.3060e-06 - val_loss: 0.2098\n",
            "Epoch 42/100\n",
            "1/1 [==============================] - 0s 100ms/step - loss: 1.6576e-06 - val_loss: 0.2098\n",
            "Epoch 43/100\n",
            "1/1 [==============================] - 0s 103ms/step - loss: 1.5083e-06 - val_loss: 0.2100\n",
            "Epoch 44/100\n",
            "1/1 [==============================] - 0s 113ms/step - loss: 9.8553e-07 - val_loss: 0.2103\n",
            "Epoch 45/100\n",
            "1/1 [==============================] - 0s 110ms/step - loss: 4.0146e-07 - val_loss: 0.2106\n",
            "Epoch 46/100\n",
            "1/1 [==============================] - 0s 110ms/step - loss: 4.6840e-08 - val_loss: 0.2110\n",
            "Epoch 47/100\n",
            "1/1 [==============================] - 0s 105ms/step - loss: 3.6640e-08 - val_loss: 0.2112\n",
            "Epoch 48/100\n",
            "1/1 [==============================] - 0s 102ms/step - loss: 2.8186e-07 - val_loss: 0.2114\n",
            "Epoch 49/100\n",
            "1/1 [==============================] - 0s 109ms/step - loss: 5.7590e-07 - val_loss: 0.2115\n",
            "Epoch 50/100\n",
            "1/1 [==============================] - 0s 105ms/step - loss: 7.2649e-07 - val_loss: 0.2114\n",
            "Epoch 51/100\n",
            "1/1 [==============================] - 0s 105ms/step - loss: 6.5574e-07 - val_loss: 0.2113\n",
            "Epoch 52/100\n",
            "1/1 [==============================] - 0s 112ms/step - loss: 4.2183e-07 - val_loss: 0.2111\n",
            "Epoch 53/100\n",
            "1/1 [==============================] - 0s 105ms/step - loss: 1.6447e-07 - val_loss: 0.2108\n",
            "Epoch 54/100\n",
            "1/1 [==============================] - 0s 117ms/step - loss: 1.4861e-08 - val_loss: 0.2105\n",
            "Epoch 55/100\n",
            "1/1 [==============================] - 0s 111ms/step - loss: 2.3910e-08 - val_loss: 0.2103\n",
            "Epoch 56/100\n",
            "1/1 [==============================] - 0s 111ms/step - loss: 1.4562e-07 - val_loss: 0.2102\n",
            "Epoch 57/100\n",
            "1/1 [==============================] - 0s 110ms/step - loss: 2.7812e-07 - val_loss: 0.2102\n",
            "Epoch 58/100\n",
            "1/1 [==============================] - 0s 107ms/step - loss: 3.3127e-07 - val_loss: 0.2102\n",
            "Epoch 59/100\n",
            "1/1 [==============================] - 0s 114ms/step - loss: 2.7759e-07 - val_loss: 0.2103\n",
            "Epoch 60/100\n",
            "1/1 [==============================] - 0s 115ms/step - loss: 1.5819e-07 - val_loss: 0.2105\n",
            "Epoch 61/100\n",
            "1/1 [==============================] - 0s 110ms/step - loss: 4.6807e-08 - val_loss: 0.2106\n",
            "Epoch 62/100\n",
            "1/1 [==============================] - 0s 118ms/step - loss: 2.8836e-10 - val_loss: 0.2108\n",
            "Epoch 63/100\n",
            "1/1 [==============================] - 0s 124ms/step - loss: 2.7623e-08 - val_loss: 0.2109\n",
            "Epoch 64/100\n",
            "1/1 [==============================] - 0s 120ms/step - loss: 9.2832e-08 - val_loss: 0.2110\n",
            "Epoch 65/100\n",
            "1/1 [==============================] - 0s 113ms/step - loss: 1.4420e-07 - val_loss: 0.2110\n",
            "Epoch 66/100\n",
            "1/1 [==============================] - 0s 119ms/step - loss: 1.4791e-07 - val_loss: 0.2109\n",
            "Epoch 67/100\n",
            "1/1 [==============================] - 0s 105ms/step - loss: 1.0538e-07 - val_loss: 0.2108\n",
            "Epoch 68/100\n",
            "1/1 [==============================] - 0s 104ms/step - loss: 4.6436e-08 - val_loss: 0.2107\n",
            "Epoch 69/100\n",
            "1/1 [==============================] - 0s 102ms/step - loss: 6.3784e-09 - val_loss: 0.2106\n",
            "Epoch 70/100\n",
            "1/1 [==============================] - 0s 108ms/step - loss: 3.2314e-09 - val_loss: 0.2105\n",
            "Epoch 71/100\n",
            "1/1 [==============================] - 0s 112ms/step - loss: 2.9239e-08 - val_loss: 0.2104\n",
            "Epoch 72/100\n",
            "1/1 [==============================] - 0s 115ms/step - loss: 5.9861e-08 - val_loss: 0.2104\n",
            "Epoch 73/100\n",
            "1/1 [==============================] - 0s 100ms/step - loss: 7.2065e-08 - val_loss: 0.2104\n",
            "Epoch 74/100\n",
            "1/1 [==============================] - 0s 109ms/step - loss: 5.8815e-08 - val_loss: 0.2104\n",
            "Epoch 75/100\n",
            "1/1 [==============================] - 0s 108ms/step - loss: 3.0934e-08 - val_loss: 0.2105\n",
            "Epoch 76/100\n",
            "1/1 [==============================] - 0s 108ms/step - loss: 7.0708e-09 - val_loss: 0.2106\n",
            "Epoch 77/100\n",
            "1/1 [==============================] - 0s 104ms/step - loss: 1.9949e-10 - val_loss: 0.2107\n",
            "Epoch 78/100\n",
            "1/1 [==============================] - 0s 106ms/step - loss: 1.0094e-08 - val_loss: 0.2107\n",
            "Epoch 79/100\n",
            "1/1 [==============================] - 0s 105ms/step - loss: 2.5721e-08 - val_loss: 0.2108\n",
            "Epoch 80/100\n",
            "1/1 [==============================] - 0s 111ms/step - loss: 3.4339e-08 - val_loss: 0.2108\n",
            "Epoch 81/100\n",
            "1/1 [==============================] - 0s 109ms/step - loss: 3.0213e-08 - val_loss: 0.2107\n",
            "Epoch 82/100\n",
            "1/1 [==============================] - 0s 102ms/step - loss: 1.7228e-08 - val_loss: 0.2107\n",
            "Epoch 83/100\n",
            "1/1 [==============================] - 0s 103ms/step - loss: 4.6579e-09 - val_loss: 0.2106\n",
            "Epoch 84/100\n",
            "1/1 [==============================] - 0s 103ms/step - loss: 2.6466e-12 - val_loss: 0.2105\n",
            "Epoch 85/100\n",
            "1/1 [==============================] - 0s 107ms/step - loss: 4.1752e-09 - val_loss: 0.2105\n",
            "Epoch 86/100\n",
            "1/1 [==============================] - 0s 111ms/step - loss: 1.1964e-08 - val_loss: 0.2105\n",
            "Epoch 87/100\n",
            "1/1 [==============================] - 0s 106ms/step - loss: 1.6637e-08 - val_loss: 0.2105\n",
            "Epoch 88/100\n",
            "1/1 [==============================] - 0s 108ms/step - loss: 1.4861e-08 - val_loss: 0.2105\n",
            "Epoch 89/100\n",
            "1/1 [==============================] - 0s 117ms/step - loss: 8.4446e-09 - val_loss: 0.2106\n",
            "Epoch 90/100\n",
            "1/1 [==============================] - 0s 122ms/step - loss: 2.1951e-09 - val_loss: 0.2106\n",
            "Epoch 91/100\n",
            "1/1 [==============================] - 0s 111ms/step - loss: 9.4220e-12 - val_loss: 0.2106\n",
            "Epoch 92/100\n",
            "1/1 [==============================] - 0s 108ms/step - loss: 2.2692e-09 - val_loss: 0.2107\n",
            "Epoch 93/100\n",
            "1/1 [==============================] - 0s 103ms/step - loss: 6.1698e-09 - val_loss: 0.2107\n",
            "Epoch 94/100\n",
            "1/1 [==============================] - 0s 112ms/step - loss: 8.2660e-09 - val_loss: 0.2107\n",
            "Epoch 95/100\n",
            "1/1 [==============================] - 0s 104ms/step - loss: 7.0485e-09 - val_loss: 0.2106\n",
            "Epoch 96/100\n",
            "1/1 [==============================] - 0s 110ms/step - loss: 3.6959e-09 - val_loss: 0.2106\n",
            "Epoch 97/100\n",
            "1/1 [==============================] - 0s 103ms/step - loss: 7.5912e-10 - val_loss: 0.2106\n",
            "Epoch 98/100\n",
            "1/1 [==============================] - 0s 105ms/step - loss: 6.6092e-11 - val_loss: 0.2106\n",
            "Epoch 99/100\n",
            "1/1 [==============================] - 0s 113ms/step - loss: 1.5024e-09 - val_loss: 0.2105\n",
            "Epoch 100/100\n",
            "1/1 [==============================] - 0s 106ms/step - loss: 3.4239e-09 - val_loss: 0.2105\n"
          ],
          "name": "stdout"
        },
        {
          "output_type": "execute_result",
          "data": {
            "text/plain": [
              "<tensorflow.python.keras.callbacks.History at 0x7f0236f4be90>"
            ]
          },
          "metadata": {
            "tags": []
          },
          "execution_count": 28
        }
      ]
    },
    {
      "cell_type": "code",
      "metadata": {
        "id": "1IAu5S_spMRo"
      },
      "source": [
        "import tensorflow as tf"
      ],
      "execution_count": null,
      "outputs": []
    },
    {
      "cell_type": "code",
      "metadata": {
        "colab": {
          "base_uri": "https://localhost:8080/",
          "height": 35
        },
        "id": "Na1EP2ehpTha",
        "outputId": "abffc7b9-51a0-495e-ed9f-96ecf91dae2b"
      },
      "source": [
        "tf.__version__"
      ],
      "execution_count": null,
      "outputs": [
        {
          "output_type": "execute_result",
          "data": {
            "application/vnd.google.colaboratory.intrinsic+json": {
              "type": "string"
            },
            "text/plain": [
              "'2.5.0'"
            ]
          },
          "metadata": {
            "tags": []
          },
          "execution_count": 30
        }
      ]
    },
    {
      "cell_type": "code",
      "metadata": {
        "id": "tkiTUSDkpYdR"
      },
      "source": [
        "## Prediction and Performance matrix\n",
        "\n",
        "train_predict=model.predict(X_train)\n",
        "test_predict=model.predict(X_test)"
      ],
      "execution_count": null,
      "outputs": []
    },
    {
      "cell_type": "code",
      "metadata": {
        "id": "IQuMocUCp-sp"
      },
      "source": [
        "train_predict = scaler.inverse_transform(train_predict)\n",
        "test_predict = scaler.inverse_transform(test_predict)\n",
        "df1 = scaler.inverse_transform(doge_data)"
      ],
      "execution_count": null,
      "outputs": []
    },
    {
      "cell_type": "code",
      "metadata": {
        "colab": {
          "base_uri": "https://localhost:8080/"
        },
        "id": "DKqurO9rqUdK",
        "outputId": "42ec2079-8716-436a-b91b-6a8aed17c66d"
      },
      "source": [
        "import math\n",
        "from sklearn.metrics import mean_squared_error\n",
        "math.sqrt(mean_squared_error(y_train,train_predict))"
      ],
      "execution_count": null,
      "outputs": [
        {
          "output_type": "execute_result",
          "data": {
            "text/plain": [
              "0.1524404933897687"
            ]
          },
          "metadata": {
            "tags": []
          },
          "execution_count": 33
        }
      ]
    },
    {
      "cell_type": "code",
      "metadata": {
        "colab": {
          "base_uri": "https://localhost:8080/"
        },
        "id": "wSeKahUDqy8f",
        "outputId": "4fb4f134-fccd-4140-df20-6dec089c3d2a"
      },
      "source": [
        "##Test data RMSE\n",
        "\n",
        "math.sqrt(mean_squared_error(y_test,test_predict))"
      ],
      "execution_count": null,
      "outputs": [
        {
          "output_type": "execute_result",
          "data": {
            "text/plain": [
              "0.28435225346421167"
            ]
          },
          "metadata": {
            "tags": []
          },
          "execution_count": 34
        }
      ]
    },
    {
      "cell_type": "code",
      "metadata": {
        "id": "VrsQP0s_xP2L"
      },
      "source": [
        "import matplotlib.pyplot as plt\n",
        "\n",
        "look_back=100\n",
        "trainPredictPlot = numpy.empty_like(doge_data)\n",
        "trainPredictPlot[:, :] = np.nan\n",
        "trainPredictPlot[look_back:len(train_predict)+look_back, :] = train_predict"
      ],
      "execution_count": null,
      "outputs": []
    },
    {
      "cell_type": "code",
      "metadata": {
        "id": "OuJditWKrF2C"
      },
      "source": [
        "testPredictPlot = numpy.empty_like(doge_data)\n",
        "testPredictPlot[:, :] = numpy.nan\n",
        "testPredictPlot[len(train_predict)+(look_back*2)+1:len(doge_data)-1, :] = test_predict\n",
        "\n",
        "\n",
        "\n"
      ],
      "execution_count": null,
      "outputs": []
    },
    {
      "cell_type": "code",
      "metadata": {
        "id": "8QNVIwkitHPz",
        "colab": {
          "base_uri": "https://localhost:8080/",
          "height": 265
        },
        "outputId": "3d336063-a7eb-4421-990b-17f8a4d491f1"
      },
      "source": [
        "plt.plot(scaler.inverse_transform(doge_data))\n",
        "plt.plot(trainPredictPlot)\n",
        "plt.plot(testPredictPlot)\n",
        "plt.show()"
      ],
      "execution_count": null,
      "outputs": [
        {
          "output_type": "display_data",
          "data": {
            "image/png": "[encoded data removed]",
            "text/plain": [
              "<Figure size 432x288 with 1 Axes>"
            ]
          },
          "metadata": {
            "tags": [],
            "needs_background": "light"
          }
        }
      ]
    },
    {
      "cell_type": "code",
      "metadata": {
        "colab": {
          "base_uri": "https://localhost:8080/"
        },
        "id": "3rYoOolrzJQP",
        "outputId": "8d971316-3a20-4c46-c97e-38b6747c179e"
      },
      "source": [
        "len(test_data)"
      ],
      "execution_count": null,
      "outputs": [
        {
          "output_type": "execute_result",
          "data": {
            "text/plain": [
              "160"
            ]
          },
          "metadata": {
            "tags": []
          },
          "execution_count": 38
        }
      ]
    },
    {
      "cell_type": "code",
      "metadata": {
        "colab": {
          "base_uri": "https://localhost:8080/"
        },
        "id": "ZD90ENsZzirm",
        "outputId": "e70fc7c8-908a-4a9c-d566-644fba5e397a"
      },
      "source": [
        "x_input=test_data[60:].reshape(1,-1)\n",
        "x_input.shape"
      ],
      "execution_count": null,
      "outputs": [
        {
          "output_type": "execute_result",
          "data": {
            "text/plain": [
              "(1, 100)"
            ]
          },
          "metadata": {
            "tags": []
          },
          "execution_count": 48
        }
      ]
    },
    {
      "cell_type": "code",
      "metadata": {
        "id": "hUM61pb7zu6X"
      },
      "source": [
        "temp_input=list(x_input)\n",
        "temp_input=temp_input[0].tolist()"
      ],
      "execution_count": null,
      "outputs": []
    },
    {
      "cell_type": "code",
      "metadata": {
        "colab": {
          "base_uri": "https://localhost:8080/"
        },
        "id": "vRjTzqd805qD",
        "outputId": "14d919b0-eb9d-409b-f327-cd1b6d75528d"
      },
      "source": [
        "##demonstrate prediction for next 10 days\n",
        "\n",
        "from numpy import array\n",
        "\n",
        "lst_output=[]\n",
        "n_steps=100\n",
        "i=0\n",
        "while(i<30):\n",
        "  if(len(temp_input)>100):\n",
        "    #print(temp_input)\n",
        "\n",
        "    x_input=np.array(temp_input[1:])\n",
        "    print(\"{} day input {}\".format(i,x_input))\n",
        "    x_input=x_input.reshape(1,-1)\n",
        "    x_input = x_input.reshape((1, n_steps, 1))\n",
        "\n",
        "    #print(x_input)\n",
        "\n",
        "    yhat = model.predict(x_input, verbose=0)\n",
        "    print(\"{} day output {}\".format(i,yhat))\n",
        "    temp_input.extend(yhat[0].tolist())\n",
        "    temp_input=temp_input[1:]\n",
        "\n",
        "    #print(temp_input)\n",
        "    lst_output.extend(yhat.tolist())\n",
        "    i=i+1\n",
        "\n",
        "  else:\n",
        "\n",
        "      x_input = x_input.reshape((1, n_steps,1))\n",
        "      yhat = model.predict(x_input, verbose=0)\n",
        "      print(yhat[0])\n",
        "      temp_input.extend(yhat[0].tolist())\n",
        "      print(len(temp_input))\n",
        "      lst_output.extend(yhat.tolist())\n",
        "      i=i+1\n",
        "\n",
        "      print(lst_output)\n",
        "            \n",
        "\n",
        "\n",
        "\n",
        "\n",
        "\n",
        "                            \n"
      ],
      "execution_count": null,
      "outputs": [
        {
          "output_type": "stream",
          "text": [
            "0 day input [8.83448214e-02 8.27716235e-02 8.03886959e-02 8.25897476e-02\n",
            " 8.12702974e-02 8.09933078e-02 8.20998092e-02 8.30145215e-02\n",
            " 8.04831715e-02 7.71617580e-02 7.53771715e-02 7.27233775e-02\n",
            " 7.23222249e-02 7.57735723e-02 7.63892068e-02 7.54073445e-02\n",
            " 7.62365135e-02 7.67739659e-02 7.61582647e-02 8.84381258e-02\n",
            " 8.22140351e-02 7.94881726e-02 8.18330566e-02 8.50769879e-02\n",
            " 9.23054956e-02 8.54227416e-02 8.92170049e-02 8.97722125e-02\n",
            " 9.29975648e-02 1.09121612e-01 1.03697599e-01 1.38016112e-01\n",
            " 1.79788309e-01 2.69635347e-01 5.42527267e-01 4.20819978e-01\n",
            " 4.74930949e-01 6.06809385e-01 4.79131340e-01 4.60065062e-01\n",
            " 3.89072077e-01 3.69280124e-01 4.01735226e-01 3.73170149e-01\n",
            " 4.02133660e-01 4.03091386e-01 4.78080328e-01 4.49351382e-01\n",
            " 4.97218560e-01 5.79235288e-01 5.54163096e-01 6.49052703e-01\n",
            " 7.95330560e-01 9.66943781e-01 8.51587131e-01 1.00000000e+00\n",
            " 9.29319438e-01 8.32108441e-01 6.58196416e-01 7.23406855e-01\n",
            " 5.64788747e-01 7.16975234e-01 8.16661626e-01 7.41100897e-01\n",
            " 7.51233077e-01 7.11625250e-01 6.93047568e-01 4.84849780e-01\n",
            " 5.81320247e-01 5.21037970e-01 4.96267423e-01 4.46286832e-01\n",
            " 5.30336905e-01 5.01228800e-01 5.11040100e-01 4.81002036e-01\n",
            " 4.47641393e-01 4.35937761e-01 4.34656983e-01 4.69367540e-01\n",
            " 5.36166724e-01 6.14610422e-01 5.81160226e-01 5.45664800e-01\n",
            " 5.39629213e-01 5.39090718e-01 4.79082469e-01 4.75277540e-01\n",
            " 4.98145852e-01 4.73571931e-01 4.64775800e-01 4.54135331e-01\n",
            " 4.72121647e-01 4.83050352e-01 4.78723726e-01 4.51455768e-01\n",
            " 4.52220639e-01 4.32263142e-01 4.23206467e-01 9.26881970e-04]\n",
            "0 day output [[0.00081639]]\n",
            "1 day input [8.27716235e-02 8.03886959e-02 8.25897476e-02 8.12702974e-02\n",
            " 8.09933078e-02 8.20998092e-02 8.30145215e-02 8.04831715e-02\n",
            " 7.71617580e-02 7.53771715e-02 7.27233775e-02 7.23222249e-02\n",
            " 7.57735723e-02 7.63892068e-02 7.54073445e-02 7.62365135e-02\n",
            " 7.67739659e-02 7.61582647e-02 8.84381258e-02 8.22140351e-02\n",
            " 7.94881726e-02 8.18330566e-02 8.50769879e-02 9.23054956e-02\n",
            " 8.54227416e-02 8.92170049e-02 8.97722125e-02 9.29975648e-02\n",
            " 1.09121612e-01 1.03697599e-01 1.38016112e-01 1.79788309e-01\n",
            " 2.69635347e-01 5.42527267e-01 4.20819978e-01 4.74930949e-01\n",
            " 6.06809385e-01 4.79131340e-01 4.60065062e-01 3.89072077e-01\n",
            " 3.69280124e-01 4.01735226e-01 3.73170149e-01 4.02133660e-01\n",
            " 4.03091386e-01 4.78080328e-01 4.49351382e-01 4.97218560e-01\n",
            " 5.79235288e-01 5.54163096e-01 6.49052703e-01 7.95330560e-01\n",
            " 9.66943781e-01 8.51587131e-01 1.00000000e+00 9.29319438e-01\n",
            " 8.32108441e-01 6.58196416e-01 7.23406855e-01 5.64788747e-01\n",
            " 7.16975234e-01 8.16661626e-01 7.41100897e-01 7.51233077e-01\n",
            " 7.11625250e-01 6.93047568e-01 4.84849780e-01 5.81320247e-01\n",
            " 5.21037970e-01 4.96267423e-01 4.46286832e-01 5.30336905e-01\n",
            " 5.01228800e-01 5.11040100e-01 4.81002036e-01 4.47641393e-01\n",
            " 4.35937761e-01 4.34656983e-01 4.69367540e-01 5.36166724e-01\n",
            " 6.14610422e-01 5.81160226e-01 5.45664800e-01 5.39629213e-01\n",
            " 5.39090718e-01 4.79082469e-01 4.75277540e-01 4.98145852e-01\n",
            " 4.73571931e-01 4.64775800e-01 4.54135331e-01 4.72121647e-01\n",
            " 4.83050352e-01 4.78723726e-01 4.51455768e-01 4.52220639e-01\n",
            " 4.32263142e-01 4.23206467e-01 9.26881970e-04 8.16392188e-04]\n",
            "1 day output [[0.0006303]]\n",
            "2 day input [8.03886959e-02 8.25897476e-02 8.12702974e-02 8.09933078e-02\n",
            " 8.20998092e-02 8.30145215e-02 8.04831715e-02 7.71617580e-02\n",
            " 7.53771715e-02 7.27233775e-02 7.23222249e-02 7.57735723e-02\n",
            " 7.63892068e-02 7.54073445e-02 7.62365135e-02 7.67739659e-02\n",
            " 7.61582647e-02 8.84381258e-02 8.22140351e-02 7.94881726e-02\n",
            " 8.18330566e-02 8.50769879e-02 9.23054956e-02 8.54227416e-02\n",
            " 8.92170049e-02 8.97722125e-02 9.29975648e-02 1.09121612e-01\n",
            " 1.03697599e-01 1.38016112e-01 1.79788309e-01 2.69635347e-01\n",
            " 5.42527267e-01 4.20819978e-01 4.74930949e-01 6.06809385e-01\n",
            " 4.79131340e-01 4.60065062e-01 3.89072077e-01 3.69280124e-01\n",
            " 4.01735226e-01 3.73170149e-01 4.02133660e-01 4.03091386e-01\n",
            " 4.78080328e-01 4.49351382e-01 4.97218560e-01 5.79235288e-01\n",
            " 5.54163096e-01 6.49052703e-01 7.95330560e-01 9.66943781e-01\n",
            " 8.51587131e-01 1.00000000e+00 9.29319438e-01 8.32108441e-01\n",
            " 6.58196416e-01 7.23406855e-01 5.64788747e-01 7.16975234e-01\n",
            " 8.16661626e-01 7.41100897e-01 7.51233077e-01 7.11625250e-01\n",
            " 6.93047568e-01 4.84849780e-01 5.81320247e-01 5.21037970e-01\n",
            " 4.96267423e-01 4.46286832e-01 5.30336905e-01 5.01228800e-01\n",
            " 5.11040100e-01 4.81002036e-01 4.47641393e-01 4.35937761e-01\n",
            " 4.34656983e-01 4.69367540e-01 5.36166724e-01 6.14610422e-01\n",
            " 5.81160226e-01 5.45664800e-01 5.39629213e-01 5.39090718e-01\n",
            " 4.79082469e-01 4.75277540e-01 4.98145852e-01 4.73571931e-01\n",
            " 4.64775800e-01 4.54135331e-01 4.72121647e-01 4.83050352e-01\n",
            " 4.78723726e-01 4.51455768e-01 4.52220639e-01 4.32263142e-01\n",
            " 4.23206467e-01 9.26881970e-04 8.16392188e-04 6.30302762e-04]\n",
            "2 day output [[0.00040108]]\n",
            "3 day input [8.25897476e-02 8.12702974e-02 8.09933078e-02 8.20998092e-02\n",
            " 8.30145215e-02 8.04831715e-02 7.71617580e-02 7.53771715e-02\n",
            " 7.27233775e-02 7.23222249e-02 7.57735723e-02 7.63892068e-02\n",
            " 7.54073445e-02 7.62365135e-02 7.67739659e-02 7.61582647e-02\n",
            " 8.84381258e-02 8.22140351e-02 7.94881726e-02 8.18330566e-02\n",
            " 8.50769879e-02 9.23054956e-02 8.54227416e-02 8.92170049e-02\n",
            " 8.97722125e-02 9.29975648e-02 1.09121612e-01 1.03697599e-01\n",
            " 1.38016112e-01 1.79788309e-01 2.69635347e-01 5.42527267e-01\n",
            " 4.20819978e-01 4.74930949e-01 6.06809385e-01 4.79131340e-01\n",
            " 4.60065062e-01 3.89072077e-01 3.69280124e-01 4.01735226e-01\n",
            " 3.73170149e-01 4.02133660e-01 4.03091386e-01 4.78080328e-01\n",
            " 4.49351382e-01 4.97218560e-01 5.79235288e-01 5.54163096e-01\n",
            " 6.49052703e-01 7.95330560e-01 9.66943781e-01 8.51587131e-01\n",
            " 1.00000000e+00 9.29319438e-01 8.32108441e-01 6.58196416e-01\n",
            " 7.23406855e-01 5.64788747e-01 7.16975234e-01 8.16661626e-01\n",
            " 7.41100897e-01 7.51233077e-01 7.11625250e-01 6.93047568e-01\n",
            " 4.84849780e-01 5.81320247e-01 5.21037970e-01 4.96267423e-01\n",
            " 4.46286832e-01 5.30336905e-01 5.01228800e-01 5.11040100e-01\n",
            " 4.81002036e-01 4.47641393e-01 4.35937761e-01 4.34656983e-01\n",
            " 4.69367540e-01 5.36166724e-01 6.14610422e-01 5.81160226e-01\n",
            " 5.45664800e-01 5.39629213e-01 5.39090718e-01 4.79082469e-01\n",
            " 4.75277540e-01 4.98145852e-01 4.73571931e-01 4.64775800e-01\n",
            " 4.54135331e-01 4.72121647e-01 4.83050352e-01 4.78723726e-01\n",
            " 4.51455768e-01 4.52220639e-01 4.32263142e-01 4.23206467e-01\n",
            " 9.26881970e-04 8.16392188e-04 6.30302762e-04 4.01079073e-04]\n",
            "3 day output [[0.00017053]]\n",
            "4 day input [8.12702974e-02 8.09933078e-02 8.20998092e-02 8.30145215e-02\n",
            " 8.04831715e-02 7.71617580e-02 7.53771715e-02 7.27233775e-02\n",
            " 7.23222249e-02 7.57735723e-02 7.63892068e-02 7.54073445e-02\n",
            " 7.62365135e-02 7.67739659e-02 7.61582647e-02 8.84381258e-02\n",
            " 8.22140351e-02 7.94881726e-02 8.18330566e-02 8.50769879e-02\n",
            " 9.23054956e-02 8.54227416e-02 8.92170049e-02 8.97722125e-02\n",
            " 9.29975648e-02 1.09121612e-01 1.03697599e-01 1.38016112e-01\n",
            " 1.79788309e-01 2.69635347e-01 5.42527267e-01 4.20819978e-01\n",
            " 4.74930949e-01 6.06809385e-01 4.79131340e-01 4.60065062e-01\n",
            " 3.89072077e-01 3.69280124e-01 4.01735226e-01 3.73170149e-01\n",
            " 4.02133660e-01 4.03091386e-01 4.78080328e-01 4.49351382e-01\n",
            " 4.97218560e-01 5.79235288e-01 5.54163096e-01 6.49052703e-01\n",
            " 7.95330560e-01 9.66943781e-01 8.51587131e-01 1.00000000e+00\n",
            " 9.29319438e-01 8.32108441e-01 6.58196416e-01 7.23406855e-01\n",
            " 5.64788747e-01 7.16975234e-01 8.16661626e-01 7.41100897e-01\n",
            " 7.51233077e-01 7.11625250e-01 6.93047568e-01 4.84849780e-01\n",
            " 5.81320247e-01 5.21037970e-01 4.96267423e-01 4.46286832e-01\n",
            " 5.30336905e-01 5.01228800e-01 5.11040100e-01 4.81002036e-01\n",
            " 4.47641393e-01 4.35937761e-01 4.34656983e-01 4.69367540e-01\n",
            " 5.36166724e-01 6.14610422e-01 5.81160226e-01 5.45664800e-01\n",
            " 5.39629213e-01 5.39090718e-01 4.79082469e-01 4.75277540e-01\n",
            " 4.98145852e-01 4.73571931e-01 4.64775800e-01 4.54135331e-01\n",
            " 4.72121647e-01 4.83050352e-01 4.78723726e-01 4.51455768e-01\n",
            " 4.52220639e-01 4.32263142e-01 4.23206467e-01 9.26881970e-04\n",
            " 8.16392188e-04 6.30302762e-04 4.01079073e-04 1.70530751e-04]\n",
            "4 day output [[-2.4102774e-05]]\n",
            "5 day input [ 8.09933078e-02  8.20998092e-02  8.30145215e-02  8.04831715e-02\n",
            "  7.71617580e-02  7.53771715e-02  7.27233775e-02  7.23222249e-02\n",
            "  7.57735723e-02  7.63892068e-02  7.54073445e-02  7.62365135e-02\n",
            "  7.67739659e-02  7.61582647e-02  8.84381258e-02  8.22140351e-02\n",
            "  7.94881726e-02  8.18330566e-02  8.50769879e-02  9.23054956e-02\n",
            "  8.54227416e-02  8.92170049e-02  8.97722125e-02  9.29975648e-02\n",
            "  1.09121612e-01  1.03697599e-01  1.38016112e-01  1.79788309e-01\n",
            "  2.69635347e-01  5.42527267e-01  4.20819978e-01  4.74930949e-01\n",
            "  6.06809385e-01  4.79131340e-01  4.60065062e-01  3.89072077e-01\n",
            "  3.69280124e-01  4.01735226e-01  3.73170149e-01  4.02133660e-01\n",
            "  4.03091386e-01  4.78080328e-01  4.49351382e-01  4.97218560e-01\n",
            "  5.79235288e-01  5.54163096e-01  6.49052703e-01  7.95330560e-01\n",
            "  9.66943781e-01  8.51587131e-01  1.00000000e+00  9.29319438e-01\n",
            "  8.32108441e-01  6.58196416e-01  7.23406855e-01  5.64788747e-01\n",
            "  7.16975234e-01  8.16661626e-01  7.41100897e-01  7.51233077e-01\n",
            "  7.11625250e-01  6.93047568e-01  4.84849780e-01  5.81320247e-01\n",
            "  5.21037970e-01  4.96267423e-01  4.46286832e-01  5.30336905e-01\n",
            "  5.01228800e-01  5.11040100e-01  4.81002036e-01  4.47641393e-01\n",
            "  4.35937761e-01  4.34656983e-01  4.69367540e-01  5.36166724e-01\n",
            "  6.14610422e-01  5.81160226e-01  5.45664800e-01  5.39629213e-01\n",
            "  5.39090718e-01  4.79082469e-01  4.75277540e-01  4.98145852e-01\n",
            "  4.73571931e-01  4.64775800e-01  4.54135331e-01  4.72121647e-01\n",
            "  4.83050352e-01  4.78723726e-01  4.51455768e-01  4.52220639e-01\n",
            "  4.32263142e-01  4.23206467e-01  9.26881970e-04  8.16392188e-04\n",
            "  6.30302762e-04  4.01079073e-04  1.70530751e-04 -2.41027738e-05]\n",
            "5 day output [[-0.00015741]]\n",
            "6 day input [ 8.20998092e-02  8.30145215e-02  8.04831715e-02  7.71617580e-02\n",
            "  7.53771715e-02  7.27233775e-02  7.23222249e-02  7.57735723e-02\n",
            "  7.63892068e-02  7.54073445e-02  7.62365135e-02  7.67739659e-02\n",
            "  7.61582647e-02  8.84381258e-02  8.22140351e-02  7.94881726e-02\n",
            "  8.18330566e-02  8.50769879e-02  9.23054956e-02  8.54227416e-02\n",
            "  8.92170049e-02  8.97722125e-02  9.29975648e-02  1.09121612e-01\n",
            "  1.03697599e-01  1.38016112e-01  1.79788309e-01  2.69635347e-01\n",
            "  5.42527267e-01  4.20819978e-01  4.74930949e-01  6.06809385e-01\n",
            "  4.79131340e-01  4.60065062e-01  3.89072077e-01  3.69280124e-01\n",
            "  4.01735226e-01  3.73170149e-01  4.02133660e-01  4.03091386e-01\n",
            "  4.78080328e-01  4.49351382e-01  4.97218560e-01  5.79235288e-01\n",
            "  5.54163096e-01  6.49052703e-01  7.95330560e-01  9.66943781e-01\n",
            "  8.51587131e-01  1.00000000e+00  9.29319438e-01  8.32108441e-01\n",
            "  6.58196416e-01  7.23406855e-01  5.64788747e-01  7.16975234e-01\n",
            "  8.16661626e-01  7.41100897e-01  7.51233077e-01  7.11625250e-01\n",
            "  6.93047568e-01  4.84849780e-01  5.81320247e-01  5.21037970e-01\n",
            "  4.96267423e-01  4.46286832e-01  5.30336905e-01  5.01228800e-01\n",
            "  5.11040100e-01  4.81002036e-01  4.47641393e-01  4.35937761e-01\n",
            "  4.34656983e-01  4.69367540e-01  5.36166724e-01  6.14610422e-01\n",
            "  5.81160226e-01  5.45664800e-01  5.39629213e-01  5.39090718e-01\n",
            "  4.79082469e-01  4.75277540e-01  4.98145852e-01  4.73571931e-01\n",
            "  4.64775800e-01  4.54135331e-01  4.72121647e-01  4.83050352e-01\n",
            "  4.78723726e-01  4.51455768e-01  4.52220639e-01  4.32263142e-01\n",
            "  4.23206467e-01  9.26881970e-04  8.16392188e-04  6.30302762e-04\n",
            "  4.01079073e-04  1.70530751e-04 -2.41027738e-05 -1.57411196e-04]\n",
            "6 day output [[-0.00021764]]\n",
            "7 day input [ 8.30145215e-02  8.04831715e-02  7.71617580e-02  7.53771715e-02\n",
            "  7.27233775e-02  7.23222249e-02  7.57735723e-02  7.63892068e-02\n",
            "  7.54073445e-02  7.62365135e-02  7.67739659e-02  7.61582647e-02\n",
            "  8.84381258e-02  8.22140351e-02  7.94881726e-02  8.18330566e-02\n",
            "  8.50769879e-02  9.23054956e-02  8.54227416e-02  8.92170049e-02\n",
            "  8.97722125e-02  9.29975648e-02  1.09121612e-01  1.03697599e-01\n",
            "  1.38016112e-01  1.79788309e-01  2.69635347e-01  5.42527267e-01\n",
            "  4.20819978e-01  4.74930949e-01  6.06809385e-01  4.79131340e-01\n",
            "  4.60065062e-01  3.89072077e-01  3.69280124e-01  4.01735226e-01\n",
            "  3.73170149e-01  4.02133660e-01  4.03091386e-01  4.78080328e-01\n",
            "  4.49351382e-01  4.97218560e-01  5.79235288e-01  5.54163096e-01\n",
            "  6.49052703e-01  7.95330560e-01  9.66943781e-01  8.51587131e-01\n",
            "  1.00000000e+00  9.29319438e-01  8.32108441e-01  6.58196416e-01\n",
            "  7.23406855e-01  5.64788747e-01  7.16975234e-01  8.16661626e-01\n",
            "  7.41100897e-01  7.51233077e-01  7.11625250e-01  6.93047568e-01\n",
            "  4.84849780e-01  5.81320247e-01  5.21037970e-01  4.96267423e-01\n",
            "  4.46286832e-01  5.30336905e-01  5.01228800e-01  5.11040100e-01\n",
            "  4.81002036e-01  4.47641393e-01  4.35937761e-01  4.34656983e-01\n",
            "  4.69367540e-01  5.36166724e-01  6.14610422e-01  5.81160226e-01\n",
            "  5.45664800e-01  5.39629213e-01  5.39090718e-01  4.79082469e-01\n",
            "  4.75277540e-01  4.98145852e-01  4.73571931e-01  4.64775800e-01\n",
            "  4.54135331e-01  4.72121647e-01  4.83050352e-01  4.78723726e-01\n",
            "  4.51455768e-01  4.52220639e-01  4.32263142e-01  4.23206467e-01\n",
            "  9.26881970e-04  8.16392188e-04  6.30302762e-04  4.01079073e-04\n",
            "  1.70530751e-04 -2.41027738e-05 -1.57411196e-04 -2.17643057e-04]\n",
            "7 day output [[-0.00020507]]\n",
            "8 day input [ 8.04831715e-02  7.71617580e-02  7.53771715e-02  7.27233775e-02\n",
            "  7.23222249e-02  7.57735723e-02  7.63892068e-02  7.54073445e-02\n",
            "  7.62365135e-02  7.67739659e-02  7.61582647e-02  8.84381258e-02\n",
            "  8.22140351e-02  7.94881726e-02  8.18330566e-02  8.50769879e-02\n",
            "  9.23054956e-02  8.54227416e-02  8.92170049e-02  8.97722125e-02\n",
            "  9.29975648e-02  1.09121612e-01  1.03697599e-01  1.38016112e-01\n",
            "  1.79788309e-01  2.69635347e-01  5.42527267e-01  4.20819978e-01\n",
            "  4.74930949e-01  6.06809385e-01  4.79131340e-01  4.60065062e-01\n",
            "  3.89072077e-01  3.69280124e-01  4.01735226e-01  3.73170149e-01\n",
            "  4.02133660e-01  4.03091386e-01  4.78080328e-01  4.49351382e-01\n",
            "  4.97218560e-01  5.79235288e-01  5.54163096e-01  6.49052703e-01\n",
            "  7.95330560e-01  9.66943781e-01  8.51587131e-01  1.00000000e+00\n",
            "  9.29319438e-01  8.32108441e-01  6.58196416e-01  7.23406855e-01\n",
            "  5.64788747e-01  7.16975234e-01  8.16661626e-01  7.41100897e-01\n",
            "  7.51233077e-01  7.11625250e-01  6.93047568e-01  4.84849780e-01\n",
            "  5.81320247e-01  5.21037970e-01  4.96267423e-01  4.46286832e-01\n",
            "  5.30336905e-01  5.01228800e-01  5.11040100e-01  4.81002036e-01\n",
            "  4.47641393e-01  4.35937761e-01  4.34656983e-01  4.69367540e-01\n",
            "  5.36166724e-01  6.14610422e-01  5.81160226e-01  5.45664800e-01\n",
            "  5.39629213e-01  5.39090718e-01  4.79082469e-01  4.75277540e-01\n",
            "  4.98145852e-01  4.73571931e-01  4.64775800e-01  4.54135331e-01\n",
            "  4.72121647e-01  4.83050352e-01  4.78723726e-01  4.51455768e-01\n",
            "  4.52220639e-01  4.32263142e-01  4.23206467e-01  9.26881970e-04\n",
            "  8.16392188e-04  6.30302762e-04  4.01079073e-04  1.70530751e-04\n",
            " -2.41027738e-05 -1.57411196e-04 -2.17643057e-04 -2.05066623e-04]\n",
            "8 day output [[-0.00012872]]\n",
            "9 day input [ 7.71617580e-02  7.53771715e-02  7.27233775e-02  7.23222249e-02\n",
            "  7.57735723e-02  7.63892068e-02  7.54073445e-02  7.62365135e-02\n",
            "  7.67739659e-02  7.61582647e-02  8.84381258e-02  8.22140351e-02\n",
            "  7.94881726e-02  8.18330566e-02  8.50769879e-02  9.23054956e-02\n",
            "  8.54227416e-02  8.92170049e-02  8.97722125e-02  9.29975648e-02\n",
            "  1.09121612e-01  1.03697599e-01  1.38016112e-01  1.79788309e-01\n",
            "  2.69635347e-01  5.42527267e-01  4.20819978e-01  4.74930949e-01\n",
            "  6.06809385e-01  4.79131340e-01  4.60065062e-01  3.89072077e-01\n",
            "  3.69280124e-01  4.01735226e-01  3.73170149e-01  4.02133660e-01\n",
            "  4.03091386e-01  4.78080328e-01  4.49351382e-01  4.97218560e-01\n",
            "  5.79235288e-01  5.54163096e-01  6.49052703e-01  7.95330560e-01\n",
            "  9.66943781e-01  8.51587131e-01  1.00000000e+00  9.29319438e-01\n",
            "  8.32108441e-01  6.58196416e-01  7.23406855e-01  5.64788747e-01\n",
            "  7.16975234e-01  8.16661626e-01  7.41100897e-01  7.51233077e-01\n",
            "  7.11625250e-01  6.93047568e-01  4.84849780e-01  5.81320247e-01\n",
            "  5.21037970e-01  4.96267423e-01  4.46286832e-01  5.30336905e-01\n",
            "  5.01228800e-01  5.11040100e-01  4.81002036e-01  4.47641393e-01\n",
            "  4.35937761e-01  4.34656983e-01  4.69367540e-01  5.36166724e-01\n",
            "  6.14610422e-01  5.81160226e-01  5.45664800e-01  5.39629213e-01\n",
            "  5.39090718e-01  4.79082469e-01  4.75277540e-01  4.98145852e-01\n",
            "  4.73571931e-01  4.64775800e-01  4.54135331e-01  4.72121647e-01\n",
            "  4.83050352e-01  4.78723726e-01  4.51455768e-01  4.52220639e-01\n",
            "  4.32263142e-01  4.23206467e-01  9.26881970e-04  8.16392188e-04\n",
            "  6.30302762e-04  4.01079073e-04  1.70530751e-04 -2.41027738e-05\n",
            " -1.57411196e-04 -2.17643057e-04 -2.05066623e-04 -1.28718952e-04]\n",
            "9 day output [[-2.853747e-06]]\n",
            "10 day input [ 7.53771715e-02  7.27233775e-02  7.23222249e-02  7.57735723e-02\n",
            "  7.63892068e-02  7.54073445e-02  7.62365135e-02  7.67739659e-02\n",
            "  7.61582647e-02  8.84381258e-02  8.22140351e-02  7.94881726e-02\n",
            "  8.18330566e-02  8.50769879e-02  9.23054956e-02  8.54227416e-02\n",
            "  8.92170049e-02  8.97722125e-02  9.29975648e-02  1.09121612e-01\n",
            "  1.03697599e-01  1.38016112e-01  1.79788309e-01  2.69635347e-01\n",
            "  5.42527267e-01  4.20819978e-01  4.74930949e-01  6.06809385e-01\n",
            "  4.79131340e-01  4.60065062e-01  3.89072077e-01  3.69280124e-01\n",
            "  4.01735226e-01  3.73170149e-01  4.02133660e-01  4.03091386e-01\n",
            "  4.78080328e-01  4.49351382e-01  4.97218560e-01  5.79235288e-01\n",
            "  5.54163096e-01  6.49052703e-01  7.95330560e-01  9.66943781e-01\n",
            "  8.51587131e-01  1.00000000e+00  9.29319438e-01  8.32108441e-01\n",
            "  6.58196416e-01  7.23406855e-01  5.64788747e-01  7.16975234e-01\n",
            "  8.16661626e-01  7.41100897e-01  7.51233077e-01  7.11625250e-01\n",
            "  6.93047568e-01  4.84849780e-01  5.81320247e-01  5.21037970e-01\n",
            "  4.96267423e-01  4.46286832e-01  5.30336905e-01  5.01228800e-01\n",
            "  5.11040100e-01  4.81002036e-01  4.47641393e-01  4.35937761e-01\n",
            "  4.34656983e-01  4.69367540e-01  5.36166724e-01  6.14610422e-01\n",
            "  5.81160226e-01  5.45664800e-01  5.39629213e-01  5.39090718e-01\n",
            "  4.79082469e-01  4.75277540e-01  4.98145852e-01  4.73571931e-01\n",
            "  4.64775800e-01  4.54135331e-01  4.72121647e-01  4.83050352e-01\n",
            "  4.78723726e-01  4.51455768e-01  4.52220639e-01  4.32263142e-01\n",
            "  4.23206467e-01  9.26881970e-04  8.16392188e-04  6.30302762e-04\n",
            "  4.01079073e-04  1.70530751e-04 -2.41027738e-05 -1.57411196e-04\n",
            " -2.17643057e-04 -2.05066623e-04 -1.28718952e-04 -2.85374699e-06]\n",
            "10 day output [[0.00015623]]\n",
            "11 day input [ 7.27233775e-02  7.23222249e-02  7.57735723e-02  7.63892068e-02\n",
            "  7.54073445e-02  7.62365135e-02  7.67739659e-02  7.61582647e-02\n",
            "  8.84381258e-02  8.22140351e-02  7.94881726e-02  8.18330566e-02\n",
            "  8.50769879e-02  9.23054956e-02  8.54227416e-02  8.92170049e-02\n",
            "  8.97722125e-02  9.29975648e-02  1.09121612e-01  1.03697599e-01\n",
            "  1.38016112e-01  1.79788309e-01  2.69635347e-01  5.42527267e-01\n",
            "  4.20819978e-01  4.74930949e-01  6.06809385e-01  4.79131340e-01\n",
            "  4.60065062e-01  3.89072077e-01  3.69280124e-01  4.01735226e-01\n",
            "  3.73170149e-01  4.02133660e-01  4.03091386e-01  4.78080328e-01\n",
            "  4.49351382e-01  4.97218560e-01  5.79235288e-01  5.54163096e-01\n",
            "  6.49052703e-01  7.95330560e-01  9.66943781e-01  8.51587131e-01\n",
            "  1.00000000e+00  9.29319438e-01  8.32108441e-01  6.58196416e-01\n",
            "  7.23406855e-01  5.64788747e-01  7.16975234e-01  8.16661626e-01\n",
            "  7.41100897e-01  7.51233077e-01  7.11625250e-01  6.93047568e-01\n",
            "  4.84849780e-01  5.81320247e-01  5.21037970e-01  4.96267423e-01\n",
            "  4.46286832e-01  5.30336905e-01  5.01228800e-01  5.11040100e-01\n",
            "  4.81002036e-01  4.47641393e-01  4.35937761e-01  4.34656983e-01\n",
            "  4.69367540e-01  5.36166724e-01  6.14610422e-01  5.81160226e-01\n",
            "  5.45664800e-01  5.39629213e-01  5.39090718e-01  4.79082469e-01\n",
            "  4.75277540e-01  4.98145852e-01  4.73571931e-01  4.64775800e-01\n",
            "  4.54135331e-01  4.72121647e-01  4.83050352e-01  4.78723726e-01\n",
            "  4.51455768e-01  4.52220639e-01  4.32263142e-01  4.23206467e-01\n",
            "  9.26881970e-04  8.16392188e-04  6.30302762e-04  4.01079073e-04\n",
            "  1.70530751e-04 -2.41027738e-05 -1.57411196e-04 -2.17643057e-04\n",
            " -2.05066623e-04 -1.28718952e-04 -2.85374699e-06  1.56230759e-04]\n",
            "11 day output [[0.00033258]]\n",
            "12 day input [ 7.23222249e-02  7.57735723e-02  7.63892068e-02  7.54073445e-02\n",
            "  7.62365135e-02  7.67739659e-02  7.61582647e-02  8.84381258e-02\n",
            "  8.22140351e-02  7.94881726e-02  8.18330566e-02  8.50769879e-02\n",
            "  9.23054956e-02  8.54227416e-02  8.92170049e-02  8.97722125e-02\n",
            "  9.29975648e-02  1.09121612e-01  1.03697599e-01  1.38016112e-01\n",
            "  1.79788309e-01  2.69635347e-01  5.42527267e-01  4.20819978e-01\n",
            "  4.74930949e-01  6.06809385e-01  4.79131340e-01  4.60065062e-01\n",
            "  3.89072077e-01  3.69280124e-01  4.01735226e-01  3.73170149e-01\n",
            "  4.02133660e-01  4.03091386e-01  4.78080328e-01  4.49351382e-01\n",
            "  4.97218560e-01  5.79235288e-01  5.54163096e-01  6.49052703e-01\n",
            "  7.95330560e-01  9.66943781e-01  8.51587131e-01  1.00000000e+00\n",
            "  9.29319438e-01  8.32108441e-01  6.58196416e-01  7.23406855e-01\n",
            "  5.64788747e-01  7.16975234e-01  8.16661626e-01  7.41100897e-01\n",
            "  7.51233077e-01  7.11625250e-01  6.93047568e-01  4.84849780e-01\n",
            "  5.81320247e-01  5.21037970e-01  4.96267423e-01  4.46286832e-01\n",
            "  5.30336905e-01  5.01228800e-01  5.11040100e-01  4.81002036e-01\n",
            "  4.47641393e-01  4.35937761e-01  4.34656983e-01  4.69367540e-01\n",
            "  5.36166724e-01  6.14610422e-01  5.81160226e-01  5.45664800e-01\n",
            "  5.39629213e-01  5.39090718e-01  4.79082469e-01  4.75277540e-01\n",
            "  4.98145852e-01  4.73571931e-01  4.64775800e-01  4.54135331e-01\n",
            "  4.72121647e-01  4.83050352e-01  4.78723726e-01  4.51455768e-01\n",
            "  4.52220639e-01  4.32263142e-01  4.23206467e-01  9.26881970e-04\n",
            "  8.16392188e-04  6.30302762e-04  4.01079073e-04  1.70530751e-04\n",
            " -2.41027738e-05 -1.57411196e-04 -2.17643057e-04 -2.05066623e-04\n",
            " -1.28718952e-04 -2.85374699e-06  1.56230759e-04  3.32578609e-04]\n",
            "12 day output [[0.00051215]]\n",
            "13 day input [ 7.57735723e-02  7.63892068e-02  7.54073445e-02  7.62365135e-02\n",
            "  7.67739659e-02  7.61582647e-02  8.84381258e-02  8.22140351e-02\n",
            "  7.94881726e-02  8.18330566e-02  8.50769879e-02  9.23054956e-02\n",
            "  8.54227416e-02  8.92170049e-02  8.97722125e-02  9.29975648e-02\n",
            "  1.09121612e-01  1.03697599e-01  1.38016112e-01  1.79788309e-01\n",
            "  2.69635347e-01  5.42527267e-01  4.20819978e-01  4.74930949e-01\n",
            "  6.06809385e-01  4.79131340e-01  4.60065062e-01  3.89072077e-01\n",
            "  3.69280124e-01  4.01735226e-01  3.73170149e-01  4.02133660e-01\n",
            "  4.03091386e-01  4.78080328e-01  4.49351382e-01  4.97218560e-01\n",
            "  5.79235288e-01  5.54163096e-01  6.49052703e-01  7.95330560e-01\n",
            "  9.66943781e-01  8.51587131e-01  1.00000000e+00  9.29319438e-01\n",
            "  8.32108441e-01  6.58196416e-01  7.23406855e-01  5.64788747e-01\n",
            "  7.16975234e-01  8.16661626e-01  7.41100897e-01  7.51233077e-01\n",
            "  7.11625250e-01  6.93047568e-01  4.84849780e-01  5.81320247e-01\n",
            "  5.21037970e-01  4.96267423e-01  4.46286832e-01  5.30336905e-01\n",
            "  5.01228800e-01  5.11040100e-01  4.81002036e-01  4.47641393e-01\n",
            "  4.35937761e-01  4.34656983e-01  4.69367540e-01  5.36166724e-01\n",
            "  6.14610422e-01  5.81160226e-01  5.45664800e-01  5.39629213e-01\n",
            "  5.39090718e-01  4.79082469e-01  4.75277540e-01  4.98145852e-01\n",
            "  4.73571931e-01  4.64775800e-01  4.54135331e-01  4.72121647e-01\n",
            "  4.83050352e-01  4.78723726e-01  4.51455768e-01  4.52220639e-01\n",
            "  4.32263142e-01  4.23206467e-01  9.26881970e-04  8.16392188e-04\n",
            "  6.30302762e-04  4.01079073e-04  1.70530751e-04 -2.41027738e-05\n",
            " -1.57411196e-04 -2.17643057e-04 -2.05066623e-04 -1.28718952e-04\n",
            " -2.85374699e-06  1.56230759e-04  3.32578609e-04  5.12147613e-04]\n",
            "13 day output [[0.00068367]]\n",
            "14 day input [ 7.63892068e-02  7.54073445e-02  7.62365135e-02  7.67739659e-02\n",
            "  7.61582647e-02  8.84381258e-02  8.22140351e-02  7.94881726e-02\n",
            "  8.18330566e-02  8.50769879e-02  9.23054956e-02  8.54227416e-02\n",
            "  8.92170049e-02  8.97722125e-02  9.29975648e-02  1.09121612e-01\n",
            "  1.03697599e-01  1.38016112e-01  1.79788309e-01  2.69635347e-01\n",
            "  5.42527267e-01  4.20819978e-01  4.74930949e-01  6.06809385e-01\n",
            "  4.79131340e-01  4.60065062e-01  3.89072077e-01  3.69280124e-01\n",
            "  4.01735226e-01  3.73170149e-01  4.02133660e-01  4.03091386e-01\n",
            "  4.78080328e-01  4.49351382e-01  4.97218560e-01  5.79235288e-01\n",
            "  5.54163096e-01  6.49052703e-01  7.95330560e-01  9.66943781e-01\n",
            "  8.51587131e-01  1.00000000e+00  9.29319438e-01  8.32108441e-01\n",
            "  6.58196416e-01  7.23406855e-01  5.64788747e-01  7.16975234e-01\n",
            "  8.16661626e-01  7.41100897e-01  7.51233077e-01  7.11625250e-01\n",
            "  6.93047568e-01  4.84849780e-01  5.81320247e-01  5.21037970e-01\n",
            "  4.96267423e-01  4.46286832e-01  5.30336905e-01  5.01228800e-01\n",
            "  5.11040100e-01  4.81002036e-01  4.47641393e-01  4.35937761e-01\n",
            "  4.34656983e-01  4.69367540e-01  5.36166724e-01  6.14610422e-01\n",
            "  5.81160226e-01  5.45664800e-01  5.39629213e-01  5.39090718e-01\n",
            "  4.79082469e-01  4.75277540e-01  4.98145852e-01  4.73571931e-01\n",
            "  4.64775800e-01  4.54135331e-01  4.72121647e-01  4.83050352e-01\n",
            "  4.78723726e-01  4.51455768e-01  4.52220639e-01  4.32263142e-01\n",
            "  4.23206467e-01  9.26881970e-04  8.16392188e-04  6.30302762e-04\n",
            "  4.01079073e-04  1.70530751e-04 -2.41027738e-05 -1.57411196e-04\n",
            " -2.17643057e-04 -2.05066623e-04 -1.28718952e-04 -2.85374699e-06\n",
            "  1.56230759e-04  3.32578609e-04  5.12147613e-04  6.83670514e-04]\n",
            "14 day output [[0.00083896]]\n",
            "15 day input [ 7.54073445e-02  7.62365135e-02  7.67739659e-02  7.61582647e-02\n",
            "  8.84381258e-02  8.22140351e-02  7.94881726e-02  8.18330566e-02\n",
            "  8.50769879e-02  9.23054956e-02  8.54227416e-02  8.92170049e-02\n",
            "  8.97722125e-02  9.29975648e-02  1.09121612e-01  1.03697599e-01\n",
            "  1.38016112e-01  1.79788309e-01  2.69635347e-01  5.42527267e-01\n",
            "  4.20819978e-01  4.74930949e-01  6.06809385e-01  4.79131340e-01\n",
            "  4.60065062e-01  3.89072077e-01  3.69280124e-01  4.01735226e-01\n",
            "  3.73170149e-01  4.02133660e-01  4.03091386e-01  4.78080328e-01\n",
            "  4.49351382e-01  4.97218560e-01  5.79235288e-01  5.54163096e-01\n",
            "  6.49052703e-01  7.95330560e-01  9.66943781e-01  8.51587131e-01\n",
            "  1.00000000e+00  9.29319438e-01  8.32108441e-01  6.58196416e-01\n",
            "  7.23406855e-01  5.64788747e-01  7.16975234e-01  8.16661626e-01\n",
            "  7.41100897e-01  7.51233077e-01  7.11625250e-01  6.93047568e-01\n",
            "  4.84849780e-01  5.81320247e-01  5.21037970e-01  4.96267423e-01\n",
            "  4.46286832e-01  5.30336905e-01  5.01228800e-01  5.11040100e-01\n",
            "  4.81002036e-01  4.47641393e-01  4.35937761e-01  4.34656983e-01\n",
            "  4.69367540e-01  5.36166724e-01  6.14610422e-01  5.81160226e-01\n",
            "  5.45664800e-01  5.39629213e-01  5.39090718e-01  4.79082469e-01\n",
            "  4.75277540e-01  4.98145852e-01  4.73571931e-01  4.64775800e-01\n",
            "  4.54135331e-01  4.72121647e-01  4.83050352e-01  4.78723726e-01\n",
            "  4.51455768e-01  4.52220639e-01  4.32263142e-01  4.23206467e-01\n",
            "  9.26881970e-04  8.16392188e-04  6.30302762e-04  4.01079073e-04\n",
            "  1.70530751e-04 -2.41027738e-05 -1.57411196e-04 -2.17643057e-04\n",
            " -2.05066623e-04 -1.28718952e-04 -2.85374699e-06  1.56230759e-04\n",
            "  3.32578609e-04  5.12147613e-04  6.83670514e-04  8.38964363e-04]\n",
            "15 day output [[0.0009728]]\n",
            "16 day input [ 7.62365135e-02  7.67739659e-02  7.61582647e-02  8.84381258e-02\n",
            "  8.22140351e-02  7.94881726e-02  8.18330566e-02  8.50769879e-02\n",
            "  9.23054956e-02  8.54227416e-02  8.92170049e-02  8.97722125e-02\n",
            "  9.29975648e-02  1.09121612e-01  1.03697599e-01  1.38016112e-01\n",
            "  1.79788309e-01  2.69635347e-01  5.42527267e-01  4.20819978e-01\n",
            "  4.74930949e-01  6.06809385e-01  4.79131340e-01  4.60065062e-01\n",
            "  3.89072077e-01  3.69280124e-01  4.01735226e-01  3.73170149e-01\n",
            "  4.02133660e-01  4.03091386e-01  4.78080328e-01  4.49351382e-01\n",
            "  4.97218560e-01  5.79235288e-01  5.54163096e-01  6.49052703e-01\n",
            "  7.95330560e-01  9.66943781e-01  8.51587131e-01  1.00000000e+00\n",
            "  9.29319438e-01  8.32108441e-01  6.58196416e-01  7.23406855e-01\n",
            "  5.64788747e-01  7.16975234e-01  8.16661626e-01  7.41100897e-01\n",
            "  7.51233077e-01  7.11625250e-01  6.93047568e-01  4.84849780e-01\n",
            "  5.81320247e-01  5.21037970e-01  4.96267423e-01  4.46286832e-01\n",
            "  5.30336905e-01  5.01228800e-01  5.11040100e-01  4.81002036e-01\n",
            "  4.47641393e-01  4.35937761e-01  4.34656983e-01  4.69367540e-01\n",
            "  5.36166724e-01  6.14610422e-01  5.81160226e-01  5.45664800e-01\n",
            "  5.39629213e-01  5.39090718e-01  4.79082469e-01  4.75277540e-01\n",
            "  4.98145852e-01  4.73571931e-01  4.64775800e-01  4.54135331e-01\n",
            "  4.72121647e-01  4.83050352e-01  4.78723726e-01  4.51455768e-01\n",
            "  4.52220639e-01  4.32263142e-01  4.23206467e-01  9.26881970e-04\n",
            "  8.16392188e-04  6.30302762e-04  4.01079073e-04  1.70530751e-04\n",
            " -2.41027738e-05 -1.57411196e-04 -2.17643057e-04 -2.05066623e-04\n",
            " -1.28718952e-04 -2.85374699e-06  1.56230759e-04  3.32578609e-04\n",
            "  5.12147613e-04  6.83670514e-04  8.38964363e-04  9.72802402e-04]\n",
            "16 day output [[0.00108255]]\n",
            "17 day input [ 7.67739659e-02  7.61582647e-02  8.84381258e-02  8.22140351e-02\n",
            "  7.94881726e-02  8.18330566e-02  8.50769879e-02  9.23054956e-02\n",
            "  8.54227416e-02  8.92170049e-02  8.97722125e-02  9.29975648e-02\n",
            "  1.09121612e-01  1.03697599e-01  1.38016112e-01  1.79788309e-01\n",
            "  2.69635347e-01  5.42527267e-01  4.20819978e-01  4.74930949e-01\n",
            "  6.06809385e-01  4.79131340e-01  4.60065062e-01  3.89072077e-01\n",
            "  3.69280124e-01  4.01735226e-01  3.73170149e-01  4.02133660e-01\n",
            "  4.03091386e-01  4.78080328e-01  4.49351382e-01  4.97218560e-01\n",
            "  5.79235288e-01  5.54163096e-01  6.49052703e-01  7.95330560e-01\n",
            "  9.66943781e-01  8.51587131e-01  1.00000000e+00  9.29319438e-01\n",
            "  8.32108441e-01  6.58196416e-01  7.23406855e-01  5.64788747e-01\n",
            "  7.16975234e-01  8.16661626e-01  7.41100897e-01  7.51233077e-01\n",
            "  7.11625250e-01  6.93047568e-01  4.84849780e-01  5.81320247e-01\n",
            "  5.21037970e-01  4.96267423e-01  4.46286832e-01  5.30336905e-01\n",
            "  5.01228800e-01  5.11040100e-01  4.81002036e-01  4.47641393e-01\n",
            "  4.35937761e-01  4.34656983e-01  4.69367540e-01  5.36166724e-01\n",
            "  6.14610422e-01  5.81160226e-01  5.45664800e-01  5.39629213e-01\n",
            "  5.39090718e-01  4.79082469e-01  4.75277540e-01  4.98145852e-01\n",
            "  4.73571931e-01  4.64775800e-01  4.54135331e-01  4.72121647e-01\n",
            "  4.83050352e-01  4.78723726e-01  4.51455768e-01  4.52220639e-01\n",
            "  4.32263142e-01  4.23206467e-01  9.26881970e-04  8.16392188e-04\n",
            "  6.30302762e-04  4.01079073e-04  1.70530751e-04 -2.41027738e-05\n",
            " -1.57411196e-04 -2.17643057e-04 -2.05066623e-04 -1.28718952e-04\n",
            " -2.85374699e-06  1.56230759e-04  3.32578609e-04  5.12147613e-04\n",
            "  6.83670514e-04  8.38964363e-04  9.72802402e-04  1.08254678e-03]\n",
            "17 day output [[0.00116765]]\n",
            "18 day input [ 7.61582647e-02  8.84381258e-02  8.22140351e-02  7.94881726e-02\n",
            "  8.18330566e-02  8.50769879e-02  9.23054956e-02  8.54227416e-02\n",
            "  8.92170049e-02  8.97722125e-02  9.29975648e-02  1.09121612e-01\n",
            "  1.03697599e-01  1.38016112e-01  1.79788309e-01  2.69635347e-01\n",
            "  5.42527267e-01  4.20819978e-01  4.74930949e-01  6.06809385e-01\n",
            "  4.79131340e-01  4.60065062e-01  3.89072077e-01  3.69280124e-01\n",
            "  4.01735226e-01  3.73170149e-01  4.02133660e-01  4.03091386e-01\n",
            "  4.78080328e-01  4.49351382e-01  4.97218560e-01  5.79235288e-01\n",
            "  5.54163096e-01  6.49052703e-01  7.95330560e-01  9.66943781e-01\n",
            "  8.51587131e-01  1.00000000e+00  9.29319438e-01  8.32108441e-01\n",
            "  6.58196416e-01  7.23406855e-01  5.64788747e-01  7.16975234e-01\n",
            "  8.16661626e-01  7.41100897e-01  7.51233077e-01  7.11625250e-01\n",
            "  6.93047568e-01  4.84849780e-01  5.81320247e-01  5.21037970e-01\n",
            "  4.96267423e-01  4.46286832e-01  5.30336905e-01  5.01228800e-01\n",
            "  5.11040100e-01  4.81002036e-01  4.47641393e-01  4.35937761e-01\n",
            "  4.34656983e-01  4.69367540e-01  5.36166724e-01  6.14610422e-01\n",
            "  5.81160226e-01  5.45664800e-01  5.39629213e-01  5.39090718e-01\n",
            "  4.79082469e-01  4.75277540e-01  4.98145852e-01  4.73571931e-01\n",
            "  4.64775800e-01  4.54135331e-01  4.72121647e-01  4.83050352e-01\n",
            "  4.78723726e-01  4.51455768e-01  4.52220639e-01  4.32263142e-01\n",
            "  4.23206467e-01  9.26881970e-04  8.16392188e-04  6.30302762e-04\n",
            "  4.01079073e-04  1.70530751e-04 -2.41027738e-05 -1.57411196e-04\n",
            " -2.17643057e-04 -2.05066623e-04 -1.28718952e-04 -2.85374699e-06\n",
            "  1.56230759e-04  3.32578609e-04  5.12147613e-04  6.83670514e-04\n",
            "  8.38964363e-04  9.72802402e-04  1.08254678e-03  1.16765487e-03]\n",
            "18 day output [[0.00122917]]\n",
            "19 day input [ 8.84381258e-02  8.22140351e-02  7.94881726e-02  8.18330566e-02\n",
            "  8.50769879e-02  9.23054956e-02  8.54227416e-02  8.92170049e-02\n",
            "  8.97722125e-02  9.29975648e-02  1.09121612e-01  1.03697599e-01\n",
            "  1.38016112e-01  1.79788309e-01  2.69635347e-01  5.42527267e-01\n",
            "  4.20819978e-01  4.74930949e-01  6.06809385e-01  4.79131340e-01\n",
            "  4.60065062e-01  3.89072077e-01  3.69280124e-01  4.01735226e-01\n",
            "  3.73170149e-01  4.02133660e-01  4.03091386e-01  4.78080328e-01\n",
            "  4.49351382e-01  4.97218560e-01  5.79235288e-01  5.54163096e-01\n",
            "  6.49052703e-01  7.95330560e-01  9.66943781e-01  8.51587131e-01\n",
            "  1.00000000e+00  9.29319438e-01  8.32108441e-01  6.58196416e-01\n",
            "  7.23406855e-01  5.64788747e-01  7.16975234e-01  8.16661626e-01\n",
            "  7.41100897e-01  7.51233077e-01  7.11625250e-01  6.93047568e-01\n",
            "  4.84849780e-01  5.81320247e-01  5.21037970e-01  4.96267423e-01\n",
            "  4.46286832e-01  5.30336905e-01  5.01228800e-01  5.11040100e-01\n",
            "  4.81002036e-01  4.47641393e-01  4.35937761e-01  4.34656983e-01\n",
            "  4.69367540e-01  5.36166724e-01  6.14610422e-01  5.81160226e-01\n",
            "  5.45664800e-01  5.39629213e-01  5.39090718e-01  4.79082469e-01\n",
            "  4.75277540e-01  4.98145852e-01  4.73571931e-01  4.64775800e-01\n",
            "  4.54135331e-01  4.72121647e-01  4.83050352e-01  4.78723726e-01\n",
            "  4.51455768e-01  4.52220639e-01  4.32263142e-01  4.23206467e-01\n",
            "  9.26881970e-04  8.16392188e-04  6.30302762e-04  4.01079073e-04\n",
            "  1.70530751e-04 -2.41027738e-05 -1.57411196e-04 -2.17643057e-04\n",
            " -2.05066623e-04 -1.28718952e-04 -2.85374699e-06  1.56230759e-04\n",
            "  3.32578609e-04  5.12147613e-04  6.83670514e-04  8.38964363e-04\n",
            "  9.72802402e-04  1.08254678e-03  1.16765487e-03  1.22916512e-03]\n",
            "19 day output [[0.00126918]]\n",
            "20 day input [ 8.22140351e-02  7.94881726e-02  8.18330566e-02  8.50769879e-02\n",
            "  9.23054956e-02  8.54227416e-02  8.92170049e-02  8.97722125e-02\n",
            "  9.29975648e-02  1.09121612e-01  1.03697599e-01  1.38016112e-01\n",
            "  1.79788309e-01  2.69635347e-01  5.42527267e-01  4.20819978e-01\n",
            "  4.74930949e-01  6.06809385e-01  4.79131340e-01  4.60065062e-01\n",
            "  3.89072077e-01  3.69280124e-01  4.01735226e-01  3.73170149e-01\n",
            "  4.02133660e-01  4.03091386e-01  4.78080328e-01  4.49351382e-01\n",
            "  4.97218560e-01  5.79235288e-01  5.54163096e-01  6.49052703e-01\n",
            "  7.95330560e-01  9.66943781e-01  8.51587131e-01  1.00000000e+00\n",
            "  9.29319438e-01  8.32108441e-01  6.58196416e-01  7.23406855e-01\n",
            "  5.64788747e-01  7.16975234e-01  8.16661626e-01  7.41100897e-01\n",
            "  7.51233077e-01  7.11625250e-01  6.93047568e-01  4.84849780e-01\n",
            "  5.81320247e-01  5.21037970e-01  4.96267423e-01  4.46286832e-01\n",
            "  5.30336905e-01  5.01228800e-01  5.11040100e-01  4.81002036e-01\n",
            "  4.47641393e-01  4.35937761e-01  4.34656983e-01  4.69367540e-01\n",
            "  5.36166724e-01  6.14610422e-01  5.81160226e-01  5.45664800e-01\n",
            "  5.39629213e-01  5.39090718e-01  4.79082469e-01  4.75277540e-01\n",
            "  4.98145852e-01  4.73571931e-01  4.64775800e-01  4.54135331e-01\n",
            "  4.72121647e-01  4.83050352e-01  4.78723726e-01  4.51455768e-01\n",
            "  4.52220639e-01  4.32263142e-01  4.23206467e-01  9.26881970e-04\n",
            "  8.16392188e-04  6.30302762e-04  4.01079073e-04  1.70530751e-04\n",
            " -2.41027738e-05 -1.57411196e-04 -2.17643057e-04 -2.05066623e-04\n",
            " -1.28718952e-04 -2.85374699e-06  1.56230759e-04  3.32578609e-04\n",
            "  5.12147613e-04  6.83670514e-04  8.38964363e-04  9.72802402e-04\n",
            "  1.08254678e-03  1.16765487e-03  1.22916512e-03  1.26918335e-03]\n",
            "20 day output [[0.00129047]]\n",
            "21 day input [ 7.94881726e-02  8.18330566e-02  8.50769879e-02  9.23054956e-02\n",
            "  8.54227416e-02  8.92170049e-02  8.97722125e-02  9.29975648e-02\n",
            "  1.09121612e-01  1.03697599e-01  1.38016112e-01  1.79788309e-01\n",
            "  2.69635347e-01  5.42527267e-01  4.20819978e-01  4.74930949e-01\n",
            "  6.06809385e-01  4.79131340e-01  4.60065062e-01  3.89072077e-01\n",
            "  3.69280124e-01  4.01735226e-01  3.73170149e-01  4.02133660e-01\n",
            "  4.03091386e-01  4.78080328e-01  4.49351382e-01  4.97218560e-01\n",
            "  5.79235288e-01  5.54163096e-01  6.49052703e-01  7.95330560e-01\n",
            "  9.66943781e-01  8.51587131e-01  1.00000000e+00  9.29319438e-01\n",
            "  8.32108441e-01  6.58196416e-01  7.23406855e-01  5.64788747e-01\n",
            "  7.16975234e-01  8.16661626e-01  7.41100897e-01  7.51233077e-01\n",
            "  7.11625250e-01  6.93047568e-01  4.84849780e-01  5.81320247e-01\n",
            "  5.21037970e-01  4.96267423e-01  4.46286832e-01  5.30336905e-01\n",
            "  5.01228800e-01  5.11040100e-01  4.81002036e-01  4.47641393e-01\n",
            "  4.35937761e-01  4.34656983e-01  4.69367540e-01  5.36166724e-01\n",
            "  6.14610422e-01  5.81160226e-01  5.45664800e-01  5.39629213e-01\n",
            "  5.39090718e-01  4.79082469e-01  4.75277540e-01  4.98145852e-01\n",
            "  4.73571931e-01  4.64775800e-01  4.54135331e-01  4.72121647e-01\n",
            "  4.83050352e-01  4.78723726e-01  4.51455768e-01  4.52220639e-01\n",
            "  4.32263142e-01  4.23206467e-01  9.26881970e-04  8.16392188e-04\n",
            "  6.30302762e-04  4.01079073e-04  1.70530751e-04 -2.41027738e-05\n",
            " -1.57411196e-04 -2.17643057e-04 -2.05066623e-04 -1.28718952e-04\n",
            " -2.85374699e-06  1.56230759e-04  3.32578609e-04  5.12147613e-04\n",
            "  6.83670514e-04  8.38964363e-04  9.72802402e-04  1.08254678e-03\n",
            "  1.16765487e-03  1.22916512e-03  1.26918335e-03  1.29046710e-03]\n",
            "21 day output [[0.00129606]]\n",
            "22 day input [ 8.18330566e-02  8.50769879e-02  9.23054956e-02  8.54227416e-02\n",
            "  8.92170049e-02  8.97722125e-02  9.29975648e-02  1.09121612e-01\n",
            "  1.03697599e-01  1.38016112e-01  1.79788309e-01  2.69635347e-01\n",
            "  5.42527267e-01  4.20819978e-01  4.74930949e-01  6.06809385e-01\n",
            "  4.79131340e-01  4.60065062e-01  3.89072077e-01  3.69280124e-01\n",
            "  4.01735226e-01  3.73170149e-01  4.02133660e-01  4.03091386e-01\n",
            "  4.78080328e-01  4.49351382e-01  4.97218560e-01  5.79235288e-01\n",
            "  5.54163096e-01  6.49052703e-01  7.95330560e-01  9.66943781e-01\n",
            "  8.51587131e-01  1.00000000e+00  9.29319438e-01  8.32108441e-01\n",
            "  6.58196416e-01  7.23406855e-01  5.64788747e-01  7.16975234e-01\n",
            "  8.16661626e-01  7.41100897e-01  7.51233077e-01  7.11625250e-01\n",
            "  6.93047568e-01  4.84849780e-01  5.81320247e-01  5.21037970e-01\n",
            "  4.96267423e-01  4.46286832e-01  5.30336905e-01  5.01228800e-01\n",
            "  5.11040100e-01  4.81002036e-01  4.47641393e-01  4.35937761e-01\n",
            "  4.34656983e-01  4.69367540e-01  5.36166724e-01  6.14610422e-01\n",
            "  5.81160226e-01  5.45664800e-01  5.39629213e-01  5.39090718e-01\n",
            "  4.79082469e-01  4.75277540e-01  4.98145852e-01  4.73571931e-01\n",
            "  4.64775800e-01  4.54135331e-01  4.72121647e-01  4.83050352e-01\n",
            "  4.78723726e-01  4.51455768e-01  4.52220639e-01  4.32263142e-01\n",
            "  4.23206467e-01  9.26881970e-04  8.16392188e-04  6.30302762e-04\n",
            "  4.01079073e-04  1.70530751e-04 -2.41027738e-05 -1.57411196e-04\n",
            " -2.17643057e-04 -2.05066623e-04 -1.28718952e-04 -2.85374699e-06\n",
            "  1.56230759e-04  3.32578609e-04  5.12147613e-04  6.83670514e-04\n",
            "  8.38964363e-04  9.72802402e-04  1.08254678e-03  1.16765487e-03\n",
            "  1.22916512e-03  1.26918335e-03  1.29046710e-03  1.29606074e-03]\n",
            "22 day output [[0.00128903]]\n",
            "23 day input [ 8.50769879e-02  9.23054956e-02  8.54227416e-02  8.92170049e-02\n",
            "  8.97722125e-02  9.29975648e-02  1.09121612e-01  1.03697599e-01\n",
            "  1.38016112e-01  1.79788309e-01  2.69635347e-01  5.42527267e-01\n",
            "  4.20819978e-01  4.74930949e-01  6.06809385e-01  4.79131340e-01\n",
            "  4.60065062e-01  3.89072077e-01  3.69280124e-01  4.01735226e-01\n",
            "  3.73170149e-01  4.02133660e-01  4.03091386e-01  4.78080328e-01\n",
            "  4.49351382e-01  4.97218560e-01  5.79235288e-01  5.54163096e-01\n",
            "  6.49052703e-01  7.95330560e-01  9.66943781e-01  8.51587131e-01\n",
            "  1.00000000e+00  9.29319438e-01  8.32108441e-01  6.58196416e-01\n",
            "  7.23406855e-01  5.64788747e-01  7.16975234e-01  8.16661626e-01\n",
            "  7.41100897e-01  7.51233077e-01  7.11625250e-01  6.93047568e-01\n",
            "  4.84849780e-01  5.81320247e-01  5.21037970e-01  4.96267423e-01\n",
            "  4.46286832e-01  5.30336905e-01  5.01228800e-01  5.11040100e-01\n",
            "  4.81002036e-01  4.47641393e-01  4.35937761e-01  4.34656983e-01\n",
            "  4.69367540e-01  5.36166724e-01  6.14610422e-01  5.81160226e-01\n",
            "  5.45664800e-01  5.39629213e-01  5.39090718e-01  4.79082469e-01\n",
            "  4.75277540e-01  4.98145852e-01  4.73571931e-01  4.64775800e-01\n",
            "  4.54135331e-01  4.72121647e-01  4.83050352e-01  4.78723726e-01\n",
            "  4.51455768e-01  4.52220639e-01  4.32263142e-01  4.23206467e-01\n",
            "  9.26881970e-04  8.16392188e-04  6.30302762e-04  4.01079073e-04\n",
            "  1.70530751e-04 -2.41027738e-05 -1.57411196e-04 -2.17643057e-04\n",
            " -2.05066623e-04 -1.28718952e-04 -2.85374699e-06  1.56230759e-04\n",
            "  3.32578609e-04  5.12147613e-04  6.83670514e-04  8.38964363e-04\n",
            "  9.72802402e-04  1.08254678e-03  1.16765487e-03  1.22916512e-03\n",
            "  1.26918335e-03  1.29046710e-03  1.29606074e-03  1.28903217e-03]\n",
            "23 day output [[0.00127229]]\n",
            "24 day input [ 9.23054956e-02  8.54227416e-02  8.92170049e-02  8.97722125e-02\n",
            "  9.29975648e-02  1.09121612e-01  1.03697599e-01  1.38016112e-01\n",
            "  1.79788309e-01  2.69635347e-01  5.42527267e-01  4.20819978e-01\n",
            "  4.74930949e-01  6.06809385e-01  4.79131340e-01  4.60065062e-01\n",
            "  3.89072077e-01  3.69280124e-01  4.01735226e-01  3.73170149e-01\n",
            "  4.02133660e-01  4.03091386e-01  4.78080328e-01  4.49351382e-01\n",
            "  4.97218560e-01  5.79235288e-01  5.54163096e-01  6.49052703e-01\n",
            "  7.95330560e-01  9.66943781e-01  8.51587131e-01  1.00000000e+00\n",
            "  9.29319438e-01  8.32108441e-01  6.58196416e-01  7.23406855e-01\n",
            "  5.64788747e-01  7.16975234e-01  8.16661626e-01  7.41100897e-01\n",
            "  7.51233077e-01  7.11625250e-01  6.93047568e-01  4.84849780e-01\n",
            "  5.81320247e-01  5.21037970e-01  4.96267423e-01  4.46286832e-01\n",
            "  5.30336905e-01  5.01228800e-01  5.11040100e-01  4.81002036e-01\n",
            "  4.47641393e-01  4.35937761e-01  4.34656983e-01  4.69367540e-01\n",
            "  5.36166724e-01  6.14610422e-01  5.81160226e-01  5.45664800e-01\n",
            "  5.39629213e-01  5.39090718e-01  4.79082469e-01  4.75277540e-01\n",
            "  4.98145852e-01  4.73571931e-01  4.64775800e-01  4.54135331e-01\n",
            "  4.72121647e-01  4.83050352e-01  4.78723726e-01  4.51455768e-01\n",
            "  4.52220639e-01  4.32263142e-01  4.23206467e-01  9.26881970e-04\n",
            "  8.16392188e-04  6.30302762e-04  4.01079073e-04  1.70530751e-04\n",
            " -2.41027738e-05 -1.57411196e-04 -2.17643057e-04 -2.05066623e-04\n",
            " -1.28718952e-04 -2.85374699e-06  1.56230759e-04  3.32578609e-04\n",
            "  5.12147613e-04  6.83670514e-04  8.38964363e-04  9.72802402e-04\n",
            "  1.08254678e-03  1.16765487e-03  1.22916512e-03  1.26918335e-03\n",
            "  1.29046710e-03  1.29606074e-03  1.28903217e-03  1.27229444e-03]\n",
            "24 day output [[0.00124847]]\n",
            "25 day input [ 8.54227416e-02  8.92170049e-02  8.97722125e-02  9.29975648e-02\n",
            "  1.09121612e-01  1.03697599e-01  1.38016112e-01  1.79788309e-01\n",
            "  2.69635347e-01  5.42527267e-01  4.20819978e-01  4.74930949e-01\n",
            "  6.06809385e-01  4.79131340e-01  4.60065062e-01  3.89072077e-01\n",
            "  3.69280124e-01  4.01735226e-01  3.73170149e-01  4.02133660e-01\n",
            "  4.03091386e-01  4.78080328e-01  4.49351382e-01  4.97218560e-01\n",
            "  5.79235288e-01  5.54163096e-01  6.49052703e-01  7.95330560e-01\n",
            "  9.66943781e-01  8.51587131e-01  1.00000000e+00  9.29319438e-01\n",
            "  8.32108441e-01  6.58196416e-01  7.23406855e-01  5.64788747e-01\n",
            "  7.16975234e-01  8.16661626e-01  7.41100897e-01  7.51233077e-01\n",
            "  7.11625250e-01  6.93047568e-01  4.84849780e-01  5.81320247e-01\n",
            "  5.21037970e-01  4.96267423e-01  4.46286832e-01  5.30336905e-01\n",
            "  5.01228800e-01  5.11040100e-01  4.81002036e-01  4.47641393e-01\n",
            "  4.35937761e-01  4.34656983e-01  4.69367540e-01  5.36166724e-01\n",
            "  6.14610422e-01  5.81160226e-01  5.45664800e-01  5.39629213e-01\n",
            "  5.39090718e-01  4.79082469e-01  4.75277540e-01  4.98145852e-01\n",
            "  4.73571931e-01  4.64775800e-01  4.54135331e-01  4.72121647e-01\n",
            "  4.83050352e-01  4.78723726e-01  4.51455768e-01  4.52220639e-01\n",
            "  4.32263142e-01  4.23206467e-01  9.26881970e-04  8.16392188e-04\n",
            "  6.30302762e-04  4.01079073e-04  1.70530751e-04 -2.41027738e-05\n",
            " -1.57411196e-04 -2.17643057e-04 -2.05066623e-04 -1.28718952e-04\n",
            " -2.85374699e-06  1.56230759e-04  3.32578609e-04  5.12147613e-04\n",
            "  6.83670514e-04  8.38964363e-04  9.72802402e-04  1.08254678e-03\n",
            "  1.16765487e-03  1.22916512e-03  1.26918335e-03  1.29046710e-03\n",
            "  1.29606074e-03  1.28903217e-03  1.27229444e-03  1.24847086e-03]\n",
            "25 day output [[0.00121984]]\n",
            "26 day input [ 8.92170049e-02  8.97722125e-02  9.29975648e-02  1.09121612e-01\n",
            "  1.03697599e-01  1.38016112e-01  1.79788309e-01  2.69635347e-01\n",
            "  5.42527267e-01  4.20819978e-01  4.74930949e-01  6.06809385e-01\n",
            "  4.79131340e-01  4.60065062e-01  3.89072077e-01  3.69280124e-01\n",
            "  4.01735226e-01  3.73170149e-01  4.02133660e-01  4.03091386e-01\n",
            "  4.78080328e-01  4.49351382e-01  4.97218560e-01  5.79235288e-01\n",
            "  5.54163096e-01  6.49052703e-01  7.95330560e-01  9.66943781e-01\n",
            "  8.51587131e-01  1.00000000e+00  9.29319438e-01  8.32108441e-01\n",
            "  6.58196416e-01  7.23406855e-01  5.64788747e-01  7.16975234e-01\n",
            "  8.16661626e-01  7.41100897e-01  7.51233077e-01  7.11625250e-01\n",
            "  6.93047568e-01  4.84849780e-01  5.81320247e-01  5.21037970e-01\n",
            "  4.96267423e-01  4.46286832e-01  5.30336905e-01  5.01228800e-01\n",
            "  5.11040100e-01  4.81002036e-01  4.47641393e-01  4.35937761e-01\n",
            "  4.34656983e-01  4.69367540e-01  5.36166724e-01  6.14610422e-01\n",
            "  5.81160226e-01  5.45664800e-01  5.39629213e-01  5.39090718e-01\n",
            "  4.79082469e-01  4.75277540e-01  4.98145852e-01  4.73571931e-01\n",
            "  4.64775800e-01  4.54135331e-01  4.72121647e-01  4.83050352e-01\n",
            "  4.78723726e-01  4.51455768e-01  4.52220639e-01  4.32263142e-01\n",
            "  4.23206467e-01  9.26881970e-04  8.16392188e-04  6.30302762e-04\n",
            "  4.01079073e-04  1.70530751e-04 -2.41027738e-05 -1.57411196e-04\n",
            " -2.17643057e-04 -2.05066623e-04 -1.28718952e-04 -2.85374699e-06\n",
            "  1.56230759e-04  3.32578609e-04  5.12147613e-04  6.83670514e-04\n",
            "  8.38964363e-04  9.72802402e-04  1.08254678e-03  1.16765487e-03\n",
            "  1.22916512e-03  1.26918335e-03  1.29046710e-03  1.29606074e-03\n",
            "  1.28903217e-03  1.27229444e-03  1.24847086e-03  1.21983723e-03]\n",
            "26 day output [[0.0011883]]\n",
            "27 day input [ 8.97722125e-02  9.29975648e-02  1.09121612e-01  1.03697599e-01\n",
            "  1.38016112e-01  1.79788309e-01  2.69635347e-01  5.42527267e-01\n",
            "  4.20819978e-01  4.74930949e-01  6.06809385e-01  4.79131340e-01\n",
            "  4.60065062e-01  3.89072077e-01  3.69280124e-01  4.01735226e-01\n",
            "  3.73170149e-01  4.02133660e-01  4.03091386e-01  4.78080328e-01\n",
            "  4.49351382e-01  4.97218560e-01  5.79235288e-01  5.54163096e-01\n",
            "  6.49052703e-01  7.95330560e-01  9.66943781e-01  8.51587131e-01\n",
            "  1.00000000e+00  9.29319438e-01  8.32108441e-01  6.58196416e-01\n",
            "  7.23406855e-01  5.64788747e-01  7.16975234e-01  8.16661626e-01\n",
            "  7.41100897e-01  7.51233077e-01  7.11625250e-01  6.93047568e-01\n",
            "  4.84849780e-01  5.81320247e-01  5.21037970e-01  4.96267423e-01\n",
            "  4.46286832e-01  5.30336905e-01  5.01228800e-01  5.11040100e-01\n",
            "  4.81002036e-01  4.47641393e-01  4.35937761e-01  4.34656983e-01\n",
            "  4.69367540e-01  5.36166724e-01  6.14610422e-01  5.81160226e-01\n",
            "  5.45664800e-01  5.39629213e-01  5.39090718e-01  4.79082469e-01\n",
            "  4.75277540e-01  4.98145852e-01  4.73571931e-01  4.64775800e-01\n",
            "  4.54135331e-01  4.72121647e-01  4.83050352e-01  4.78723726e-01\n",
            "  4.51455768e-01  4.52220639e-01  4.32263142e-01  4.23206467e-01\n",
            "  9.26881970e-04  8.16392188e-04  6.30302762e-04  4.01079073e-04\n",
            "  1.70530751e-04 -2.41027738e-05 -1.57411196e-04 -2.17643057e-04\n",
            " -2.05066623e-04 -1.28718952e-04 -2.85374699e-06  1.56230759e-04\n",
            "  3.32578609e-04  5.12147613e-04  6.83670514e-04  8.38964363e-04\n",
            "  9.72802402e-04  1.08254678e-03  1.16765487e-03  1.22916512e-03\n",
            "  1.26918335e-03  1.29046710e-03  1.29606074e-03  1.28903217e-03\n",
            "  1.27229444e-03  1.24847086e-03  1.21983723e-03  1.18829962e-03]\n",
            "27 day output [[0.00115539]]\n",
            "28 day input [ 9.29975648e-02  1.09121612e-01  1.03697599e-01  1.38016112e-01\n",
            "  1.79788309e-01  2.69635347e-01  5.42527267e-01  4.20819978e-01\n",
            "  4.74930949e-01  6.06809385e-01  4.79131340e-01  4.60065062e-01\n",
            "  3.89072077e-01  3.69280124e-01  4.01735226e-01  3.73170149e-01\n",
            "  4.02133660e-01  4.03091386e-01  4.78080328e-01  4.49351382e-01\n",
            "  4.97218560e-01  5.79235288e-01  5.54163096e-01  6.49052703e-01\n",
            "  7.95330560e-01  9.66943781e-01  8.51587131e-01  1.00000000e+00\n",
            "  9.29319438e-01  8.32108441e-01  6.58196416e-01  7.23406855e-01\n",
            "  5.64788747e-01  7.16975234e-01  8.16661626e-01  7.41100897e-01\n",
            "  7.51233077e-01  7.11625250e-01  6.93047568e-01  4.84849780e-01\n",
            "  5.81320247e-01  5.21037970e-01  4.96267423e-01  4.46286832e-01\n",
            "  5.30336905e-01  5.01228800e-01  5.11040100e-01  4.81002036e-01\n",
            "  4.47641393e-01  4.35937761e-01  4.34656983e-01  4.69367540e-01\n",
            "  5.36166724e-01  6.14610422e-01  5.81160226e-01  5.45664800e-01\n",
            "  5.39629213e-01  5.39090718e-01  4.79082469e-01  4.75277540e-01\n",
            "  4.98145852e-01  4.73571931e-01  4.64775800e-01  4.54135331e-01\n",
            "  4.72121647e-01  4.83050352e-01  4.78723726e-01  4.51455768e-01\n",
            "  4.52220639e-01  4.32263142e-01  4.23206467e-01  9.26881970e-04\n",
            "  8.16392188e-04  6.30302762e-04  4.01079073e-04  1.70530751e-04\n",
            " -2.41027738e-05 -1.57411196e-04 -2.17643057e-04 -2.05066623e-04\n",
            " -1.28718952e-04 -2.85374699e-06  1.56230759e-04  3.32578609e-04\n",
            "  5.12147613e-04  6.83670514e-04  8.38964363e-04  9.72802402e-04\n",
            "  1.08254678e-03  1.16765487e-03  1.22916512e-03  1.26918335e-03\n",
            "  1.29046710e-03  1.29606074e-03  1.28903217e-03  1.27229444e-03\n",
            "  1.24847086e-03  1.21983723e-03  1.18829962e-03  1.15539494e-03]\n",
            "28 day output [[0.00112232]]\n",
            "29 day input [ 1.09121612e-01  1.03697599e-01  1.38016112e-01  1.79788309e-01\n",
            "  2.69635347e-01  5.42527267e-01  4.20819978e-01  4.74930949e-01\n",
            "  6.06809385e-01  4.79131340e-01  4.60065062e-01  3.89072077e-01\n",
            "  3.69280124e-01  4.01735226e-01  3.73170149e-01  4.02133660e-01\n",
            "  4.03091386e-01  4.78080328e-01  4.49351382e-01  4.97218560e-01\n",
            "  5.79235288e-01  5.54163096e-01  6.49052703e-01  7.95330560e-01\n",
            "  9.66943781e-01  8.51587131e-01  1.00000000e+00  9.29319438e-01\n",
            "  8.32108441e-01  6.58196416e-01  7.23406855e-01  5.64788747e-01\n",
            "  7.16975234e-01  8.16661626e-01  7.41100897e-01  7.51233077e-01\n",
            "  7.11625250e-01  6.93047568e-01  4.84849780e-01  5.81320247e-01\n",
            "  5.21037970e-01  4.96267423e-01  4.46286832e-01  5.30336905e-01\n",
            "  5.01228800e-01  5.11040100e-01  4.81002036e-01  4.47641393e-01\n",
            "  4.35937761e-01  4.34656983e-01  4.69367540e-01  5.36166724e-01\n",
            "  6.14610422e-01  5.81160226e-01  5.45664800e-01  5.39629213e-01\n",
            "  5.39090718e-01  4.79082469e-01  4.75277540e-01  4.98145852e-01\n",
            "  4.73571931e-01  4.64775800e-01  4.54135331e-01  4.72121647e-01\n",
            "  4.83050352e-01  4.78723726e-01  4.51455768e-01  4.52220639e-01\n",
            "  4.32263142e-01  4.23206467e-01  9.26881970e-04  8.16392188e-04\n",
            "  6.30302762e-04  4.01079073e-04  1.70530751e-04 -2.41027738e-05\n",
            " -1.57411196e-04 -2.17643057e-04 -2.05066623e-04 -1.28718952e-04\n",
            " -2.85374699e-06  1.56230759e-04  3.32578609e-04  5.12147613e-04\n",
            "  6.83670514e-04  8.38964363e-04  9.72802402e-04  1.08254678e-03\n",
            "  1.16765487e-03  1.22916512e-03  1.26918335e-03  1.29046710e-03\n",
            "  1.29606074e-03  1.28903217e-03  1.27229444e-03  1.24847086e-03\n",
            "  1.21983723e-03  1.18829962e-03  1.15539494e-03  1.12232252e-03]\n",
            "29 day output [[0.00108998]]\n"
          ],
          "name": "stdout"
        }
      ]
    },
    {
      "cell_type": "code",
      "metadata": {
        "id": "QQ7OAuPi42S8"
      },
      "source": [
        "day_new=np.arange(1,101)\n",
        "day_pred=np.arange(101,131)"
      ],
      "execution_count": null,
      "outputs": []
    },
    {
      "cell_type": "code",
      "metadata": {
        "id": "N4VZK5Dw5wUy"
      },
      "source": [
        "import matplotlib.pyplot as plt"
      ],
      "execution_count": null,
      "outputs": []
    },
    {
      "cell_type": "code",
      "metadata": {
        "colab": {
          "base_uri": "https://localhost:8080/"
        },
        "id": "P1BDKa-D5zjc",
        "outputId": "1c2d6515-ecd5-40e9-b123-c8dea60a80d7"
      },
      "source": [
        "len(doge_data)"
      ],
      "execution_count": null,
      "outputs": [
        {
          "output_type": "execute_result",
          "data": {
            "text/plain": [
              "532"
            ]
          },
          "metadata": {
            "tags": []
          },
          "execution_count": 59
        }
      ]
    },
    {
      "cell_type": "code",
      "metadata": {
        "id": "Zm1idCbI51wU"
      },
      "source": [
        "df = doge_data.tolist()\n",
        "df.extend(lst_output)"
      ],
      "execution_count": null,
      "outputs": []
    },
    {
      "cell_type": "code",
      "metadata": {
        "colab": {
          "base_uri": "https://localhost:8080/",
          "height": 282
        },
        "id": "ingJG-lm6FhN",
        "outputId": "0587e303-7dc5-4a7e-95fb-fd9ec16cebaa"
      },
      "source": [
        "plt.plot(day_new,scaler.inverse_transform(doge_data[432:]))\n",
        "plt.plot(day_pred,scaler.inverse_transform(lst_output))"
      ],
      "execution_count": null,
      "outputs": [
        {
          "output_type": "execute_result",
          "data": {
            "text/plain": [
              "[<matplotlib.lines.Line2D at 0x7f023238dd50>]"
            ]
          },
          "metadata": {
            "tags": []
          },
          "execution_count": 63
        },
        {
          "output_type": "display_data",
          "data": {
            "image/png": "[encoded data removed]",
            "text/plain": [
              "<Figure size 432x288 with 1 Axes>"
            ]
          },
          "metadata": {
            "tags": [],
            "needs_background": "light"
          }
        }
      ]
    },
    {
      "cell_type": "code",
      "metadata": {
        "colab": {
          "base_uri": "https://localhost:8080/",
          "height": 282
        },
        "id": "njyZvafU6fVF",
        "outputId": "23fd97e3-a167-498f-84b9-ca6a0d77a45a"
      },
      "source": [
        "df=doge_data.tolist()\n",
        "df.extend(lst_output)\n",
        "plt.plot(df[534:])"
      ],
      "execution_count": null,
      "outputs": [
        {
          "output_type": "execute_result",
          "data": {
            "text/plain": [
              "[<matplotlib.lines.Line2D at 0x7f0232446210>]"
            ]
          },
          "metadata": {
            "tags": []
          },
          "execution_count": 65
        },
        {
          "output_type": "display_data",
          "data": {
            "image/png": "[encoded data removed]",
            "text/plain": [
              "<Figure size 432x288 with 1 Axes>"
            ]
          },
          "metadata": {
            "tags": [],
            "needs_background": "light"
          }
        }
      ]
    },
    {
      "cell_type": "code",
      "metadata": {
        "id": "ErgQKNE-7_09"
      },
      "source": [
        ""
      ],
      "execution_count": null,
      "outputs": []
    }
  ]
}